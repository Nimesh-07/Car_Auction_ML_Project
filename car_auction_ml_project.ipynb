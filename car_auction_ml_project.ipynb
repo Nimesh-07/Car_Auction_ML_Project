{
  "nbformat": 4,
  "nbformat_minor": 0,
  "metadata": {
    "kernelspec": {
      "display_name": "Python 3 (ipykernel)",
      "language": "python",
      "name": "python3"
    },
    "language_info": {
      "codemirror_mode": {
        "name": "ipython",
        "version": 3
      },
      "file_extension": ".py",
      "mimetype": "text/x-python",
      "name": "python",
      "nbconvert_exporter": "python",
      "pygments_lexer": "ipython3",
      "version": "3.9.6"
    },
    "colab": {
      "name": "bosch-production-line-ml-project.ipynb",
      "provenance": [],
      "include_colab_link": true
    }
  },
  "cells": [
    {
      "cell_type": "markdown",
      "metadata": {
        "id": "view-in-github",
        "colab_type": "text"
      },
      "source": [
        "<a href=\"https://colab.research.google.com/github/Nimesh-07/Car_Auction_ML_Project/blob/main/car_auction_ml_project.ipynb\" target=\"_parent\"><img src=\"https://colab.research.google.com/assets/colab-badge.svg\" alt=\"Open In Colab\"/></a>"
      ]
    },
    {
      "cell_type": "code",
      "metadata": {
        "id": "uKG7WHWvz0ql"
      },
      "source": [
        "# Jovian Commit Essentials\n",
        "# Please retain and execute this cell without modifying the contents for `jovian.commit` to work\n",
        "!pip install jovian --upgrade -q\n",
        "import jovian\n",
        "jovian.set_project('auction-car-ml-project')\n",
        "jovian.set_colab_id('1SZg8ZCFJLvMXxqOTS8hAsUxN3zcKhc4l')"
      ],
      "execution_count": null,
      "outputs": []
    },
    {
      "cell_type": "markdown",
      "metadata": {
        "id": "Dg7P_O9ez0qp"
      },
      "source": [
        "# car-auction-ml-project\n",
        "\n",
        "Use the \"Run\" button to execute the code."
      ]
    },
    {
      "cell_type": "code",
      "metadata": {
        "id": "WR_RNKhfz0qq"
      },
      "source": [
        "\n",
        "!pip install jovian opendatasets xgboost graphviz lightgbm scikit-learn xgboost lightgbm --upgrade --quiet"
      ],
      "execution_count": null,
      "outputs": []
    },
    {
      "cell_type": "code",
      "metadata": {
        "id": "kg4qOS7-z0qr"
      },
      "source": [
        "import jovian"
      ],
      "execution_count": null,
      "outputs": []
    },
    {
      "cell_type": "code",
      "metadata": {
        "id": "x_mK6odRz0qs",
        "outputId": "03e4bfe6-b26f-45b3-f328-e51f9aa2ec14"
      },
      "source": [
        "# Execute this to save new versions of the notebook\n",
        "jovian.commit(project=\"auction-car-ml-project\")"
      ],
      "execution_count": null,
      "outputs": [
        {
          "data": {
            "application/javascript": [
              "window.require && require([\"base/js/namespace\"],function(Jupyter){Jupyter.notebook.save_checkpoint()})"
            ],
            "text/plain": [
              "<IPython.core.display.Javascript object>"
            ]
          },
          "metadata": {},
          "output_type": "display_data"
        },
        {
          "name": "stdout",
          "output_type": "stream",
          "text": [
            "[jovian] Updating notebook \"nimesh-singh-mech/auction-car-ml-project\" on https://jovian.ai\u001b[0m\n",
            "[jovian] Committed successfully! https://jovian.ai/nimesh-singh-mech/auction-car-ml-project\u001b[0m\n"
          ]
        },
        {
          "data": {
            "text/plain": [
              "'https://jovian.ai/nimesh-singh-mech/auction-car-ml-project'"
            ]
          },
          "execution_count": 3,
          "metadata": {},
          "output_type": "execute_result"
        }
      ]
    },
    {
      "cell_type": "code",
      "metadata": {
        "id": "uRl-OAZRz0qu"
      },
      "source": [
        "import os\n",
        "import numpy as np\n",
        "import pandas as pd\n",
        "import opendatasets as od\n",
        "import seaborn as sns\n",
        "import matplotlib.pyplot as plt"
      ],
      "execution_count": null,
      "outputs": []
    },
    {
      "cell_type": "code",
      "metadata": {
        "id": "IxRGRAdRz0qv",
        "outputId": "ca7ae594-903d-424c-c64e-36e96a720091"
      },
      "source": [
        "# importing dataset from kaggel competition\n",
        "\n",
        "od.download('https://www.kaggle.com/c/DontGetKicked')"
      ],
      "execution_count": null,
      "outputs": [
        {
          "name": "stdout",
          "output_type": "stream",
          "text": [
            "Please provide your Kaggle credentials to download this dataset. Learn more: http://bit.ly/kaggle-creds\n",
            "Your Kaggle username: nimeshsingh07\n",
            "Your Kaggle Key: ········\n",
            "Downloading DontGetKicked.zip to ./DontGetKicked\n"
          ]
        },
        {
          "name": "stderr",
          "output_type": "stream",
          "text": [
            "100%|██████████| 10.2M/10.2M [00:00<00:00, 56.2MB/s]"
          ]
        },
        {
          "name": "stdout",
          "output_type": "stream",
          "text": [
            "\n",
            "Extracting archive ./DontGetKicked/DontGetKicked.zip to ./DontGetKicked\n"
          ]
        },
        {
          "name": "stderr",
          "output_type": "stream",
          "text": [
            "\n"
          ]
        }
      ]
    },
    {
      "cell_type": "code",
      "metadata": {
        "id": "xfPbET3Xz0qw",
        "outputId": "b8e0d76c-4979-42bd-d628-14fc96dde0c1"
      },
      "source": [
        "os.listdir('DontGetKicked')"
      ],
      "execution_count": null,
      "outputs": [
        {
          "data": {
            "text/plain": [
              "['test.csv',\n",
              " 'test.zip',\n",
              " 'example_entry.csv',\n",
              " 'Carvana_Data_Dictionary.txt',\n",
              " 'training.csv',\n",
              " 'training.zip']"
            ]
          },
          "execution_count": 6,
          "metadata": {},
          "output_type": "execute_result"
        }
      ]
    },
    {
      "cell_type": "code",
      "metadata": {
        "id": "V8c5j50Jz0qw"
      },
      "source": [
        "train = pd.read_csv('DontGetKicked/training.csv')\n",
        "test = pd.read_csv('DontGetKicked/test.csv')\n",
        "example_entry = pd.read_csv('DontGetKicked/example_entry.csv')"
      ],
      "execution_count": null,
      "outputs": []
    },
    {
      "cell_type": "code",
      "metadata": {
        "id": "9furFzz7z0qx",
        "outputId": "748c6c08-2209-4d27-b35e-58cb69fe8441"
      },
      "source": [
        "train.info()"
      ],
      "execution_count": null,
      "outputs": [
        {
          "name": "stdout",
          "output_type": "stream",
          "text": [
            "<class 'pandas.core.frame.DataFrame'>\n",
            "RangeIndex: 72983 entries, 0 to 72982\n",
            "Data columns (total 34 columns):\n",
            " #   Column                             Non-Null Count  Dtype  \n",
            "---  ------                             --------------  -----  \n",
            " 0   RefId                              72983 non-null  int64  \n",
            " 1   IsBadBuy                           72983 non-null  int64  \n",
            " 2   PurchDate                          72983 non-null  object \n",
            " 3   Auction                            72983 non-null  object \n",
            " 4   VehYear                            72983 non-null  int64  \n",
            " 5   VehicleAge                         72983 non-null  int64  \n",
            " 6   Make                               72983 non-null  object \n",
            " 7   Model                              72983 non-null  object \n",
            " 8   Trim                               70623 non-null  object \n",
            " 9   SubModel                           72975 non-null  object \n",
            " 10  Color                              72975 non-null  object \n",
            " 11  Transmission                       72974 non-null  object \n",
            " 12  WheelTypeID                        69814 non-null  float64\n",
            " 13  WheelType                          69809 non-null  object \n",
            " 14  VehOdo                             72983 non-null  int64  \n",
            " 15  Nationality                        72978 non-null  object \n",
            " 16  Size                               72978 non-null  object \n",
            " 17  TopThreeAmericanName               72978 non-null  object \n",
            " 18  MMRAcquisitionAuctionAveragePrice  72965 non-null  float64\n",
            " 19  MMRAcquisitionAuctionCleanPrice    72965 non-null  float64\n",
            " 20  MMRAcquisitionRetailAveragePrice   72965 non-null  float64\n",
            " 21  MMRAcquisitonRetailCleanPrice      72965 non-null  float64\n",
            " 22  MMRCurrentAuctionAveragePrice      72668 non-null  float64\n",
            " 23  MMRCurrentAuctionCleanPrice        72668 non-null  float64\n",
            " 24  MMRCurrentRetailAveragePrice       72668 non-null  float64\n",
            " 25  MMRCurrentRetailCleanPrice         72668 non-null  float64\n",
            " 26  PRIMEUNIT                          3419 non-null   object \n",
            " 27  AUCGUART                           3419 non-null   object \n",
            " 28  BYRNO                              72983 non-null  int64  \n",
            " 29  VNZIP1                             72983 non-null  int64  \n",
            " 30  VNST                               72983 non-null  object \n",
            " 31  VehBCost                           72983 non-null  float64\n",
            " 32  IsOnlineSale                       72983 non-null  int64  \n",
            " 33  WarrantyCost                       72983 non-null  int64  \n",
            "dtypes: float64(10), int64(9), object(15)\n",
            "memory usage: 18.9+ MB\n"
          ]
        }
      ]
    },
    {
      "cell_type": "code",
      "metadata": {
        "id": "X6zuR99bz0qy",
        "outputId": "1b5a0fcd-3f8f-4f47-a7b7-2911318bb75c"
      },
      "source": [
        "test.info()"
      ],
      "execution_count": null,
      "outputs": [
        {
          "name": "stdout",
          "output_type": "stream",
          "text": [
            "<class 'pandas.core.frame.DataFrame'>\n",
            "RangeIndex: 48707 entries, 0 to 48706\n",
            "Data columns (total 33 columns):\n",
            " #   Column                             Non-Null Count  Dtype  \n",
            "---  ------                             --------------  -----  \n",
            " 0   RefId                              48707 non-null  int64  \n",
            " 1   PurchDate                          48707 non-null  object \n",
            " 2   Auction                            48707 non-null  object \n",
            " 3   VehYear                            48707 non-null  int64  \n",
            " 4   VehicleAge                         48707 non-null  int64  \n",
            " 5   Make                               48707 non-null  object \n",
            " 6   Model                              48707 non-null  object \n",
            " 7   Trim                               47157 non-null  object \n",
            " 8   SubModel                           48702 non-null  object \n",
            " 9   Color                              48703 non-null  object \n",
            " 10  Transmission                       48704 non-null  object \n",
            " 11  WheelTypeID                        46519 non-null  float64\n",
            " 12  WheelType                          46519 non-null  object \n",
            " 13  VehOdo                             48707 non-null  int64  \n",
            " 14  Nationality                        48700 non-null  object \n",
            " 15  Size                               48700 non-null  object \n",
            " 16  TopThreeAmericanName               48700 non-null  object \n",
            " 17  MMRAcquisitionAuctionAveragePrice  48697 non-null  float64\n",
            " 18  MMRAcquisitionAuctionCleanPrice    48697 non-null  float64\n",
            " 19  MMRAcquisitionRetailAveragePrice   48697 non-null  float64\n",
            " 20  MMRAcquisitonRetailCleanPrice      48697 non-null  float64\n",
            " 21  MMRCurrentAuctionAveragePrice      48564 non-null  float64\n",
            " 22  MMRCurrentAuctionCleanPrice        48564 non-null  float64\n",
            " 23  MMRCurrentRetailAveragePrice       48564 non-null  float64\n",
            " 24  MMRCurrentRetailCleanPrice         48564 non-null  float64\n",
            " 25  PRIMEUNIT                          2516 non-null   object \n",
            " 26  AUCGUART                           2516 non-null   object \n",
            " 27  BYRNO                              48707 non-null  int64  \n",
            " 28  VNZIP1                             48707 non-null  int64  \n",
            " 29  VNST                               48707 non-null  object \n",
            " 30  VehBCost                           48707 non-null  float64\n",
            " 31  IsOnlineSale                       48707 non-null  int64  \n",
            " 32  WarrantyCost                       48707 non-null  int64  \n",
            "dtypes: float64(10), int64(8), object(15)\n",
            "memory usage: 12.3+ MB\n"
          ]
        }
      ]
    },
    {
      "cell_type": "code",
      "metadata": {
        "id": "J6_KP9tPz0qy",
        "outputId": "b5328c58-b88d-4ccf-d528-08977436b369"
      },
      "source": [
        "pd.set_option(\"display.max_columns\", None)\n",
        "train.sample(10)"
      ],
      "execution_count": null,
      "outputs": [
        {
          "data": {
            "text/html": [
              "<div>\n",
              "<style scoped>\n",
              "    .dataframe tbody tr th:only-of-type {\n",
              "        vertical-align: middle;\n",
              "    }\n",
              "\n",
              "    .dataframe tbody tr th {\n",
              "        vertical-align: top;\n",
              "    }\n",
              "\n",
              "    .dataframe thead th {\n",
              "        text-align: right;\n",
              "    }\n",
              "</style>\n",
              "<table border=\"1\" class=\"dataframe\">\n",
              "  <thead>\n",
              "    <tr style=\"text-align: right;\">\n",
              "      <th></th>\n",
              "      <th>RefId</th>\n",
              "      <th>IsBadBuy</th>\n",
              "      <th>PurchDate</th>\n",
              "      <th>Auction</th>\n",
              "      <th>VehYear</th>\n",
              "      <th>VehicleAge</th>\n",
              "      <th>Make</th>\n",
              "      <th>Model</th>\n",
              "      <th>Trim</th>\n",
              "      <th>SubModel</th>\n",
              "      <th>Color</th>\n",
              "      <th>Transmission</th>\n",
              "      <th>WheelTypeID</th>\n",
              "      <th>WheelType</th>\n",
              "      <th>VehOdo</th>\n",
              "      <th>Nationality</th>\n",
              "      <th>Size</th>\n",
              "      <th>TopThreeAmericanName</th>\n",
              "      <th>MMRAcquisitionAuctionAveragePrice</th>\n",
              "      <th>MMRAcquisitionAuctionCleanPrice</th>\n",
              "      <th>MMRAcquisitionRetailAveragePrice</th>\n",
              "      <th>MMRAcquisitonRetailCleanPrice</th>\n",
              "      <th>MMRCurrentAuctionAveragePrice</th>\n",
              "      <th>MMRCurrentAuctionCleanPrice</th>\n",
              "      <th>MMRCurrentRetailAveragePrice</th>\n",
              "      <th>MMRCurrentRetailCleanPrice</th>\n",
              "      <th>PRIMEUNIT</th>\n",
              "      <th>AUCGUART</th>\n",
              "      <th>BYRNO</th>\n",
              "      <th>VNZIP1</th>\n",
              "      <th>VNST</th>\n",
              "      <th>VehBCost</th>\n",
              "      <th>IsOnlineSale</th>\n",
              "      <th>WarrantyCost</th>\n",
              "    </tr>\n",
              "  </thead>\n",
              "  <tbody>\n",
              "    <tr>\n",
              "      <th>6566</th>\n",
              "      <td>6573</td>\n",
              "      <td>0</td>\n",
              "      <td>6/4/2010</td>\n",
              "      <td>MANHEIM</td>\n",
              "      <td>2006</td>\n",
              "      <td>4</td>\n",
              "      <td>DODGE</td>\n",
              "      <td>STRATUS V6</td>\n",
              "      <td>SXT</td>\n",
              "      <td>4D SEDAN SXT FFV</td>\n",
              "      <td>GREEN</td>\n",
              "      <td>AUTO</td>\n",
              "      <td>2.0</td>\n",
              "      <td>Covers</td>\n",
              "      <td>73108</td>\n",
              "      <td>AMERICAN</td>\n",
              "      <td>MEDIUM</td>\n",
              "      <td>CHRYSLER</td>\n",
              "      <td>5950.0</td>\n",
              "      <td>7323.0</td>\n",
              "      <td>10243.0</td>\n",
              "      <td>12607.0</td>\n",
              "      <td>6194.0</td>\n",
              "      <td>7031.0</td>\n",
              "      <td>9346.0</td>\n",
              "      <td>9963.0</td>\n",
              "      <td>NaN</td>\n",
              "      <td>NaN</td>\n",
              "      <td>99750</td>\n",
              "      <td>85040</td>\n",
              "      <td>AZ</td>\n",
              "      <td>6000.0</td>\n",
              "      <td>0</td>\n",
              "      <td>1389</td>\n",
              "    </tr>\n",
              "    <tr>\n",
              "      <th>71362</th>\n",
              "      <td>71394</td>\n",
              "      <td>0</td>\n",
              "      <td>7/2/2009</td>\n",
              "      <td>ADESA</td>\n",
              "      <td>2003</td>\n",
              "      <td>6</td>\n",
              "      <td>NISSAN</td>\n",
              "      <td>XTERRA 4WD V6 3.3L V</td>\n",
              "      <td>SE</td>\n",
              "      <td>4D SPORT UTILITY SE</td>\n",
              "      <td>GREEN</td>\n",
              "      <td>AUTO</td>\n",
              "      <td>1.0</td>\n",
              "      <td>Alloy</td>\n",
              "      <td>64687</td>\n",
              "      <td>TOP LINE ASIAN</td>\n",
              "      <td>MEDIUM SUV</td>\n",
              "      <td>OTHER</td>\n",
              "      <td>6877.0</td>\n",
              "      <td>7905.0</td>\n",
              "      <td>7927.0</td>\n",
              "      <td>9037.0</td>\n",
              "      <td>6629.0</td>\n",
              "      <td>7925.0</td>\n",
              "      <td>7659.0</td>\n",
              "      <td>9059.0</td>\n",
              "      <td>NaN</td>\n",
              "      <td>NaN</td>\n",
              "      <td>20928</td>\n",
              "      <td>28273</td>\n",
              "      <td>NC</td>\n",
              "      <td>9550.0</td>\n",
              "      <td>0</td>\n",
              "      <td>1028</td>\n",
              "    </tr>\n",
              "    <tr>\n",
              "      <th>69677</th>\n",
              "      <td>69709</td>\n",
              "      <td>0</td>\n",
              "      <td>6/10/2009</td>\n",
              "      <td>ADESA</td>\n",
              "      <td>2005</td>\n",
              "      <td>4</td>\n",
              "      <td>CHRYSLER</td>\n",
              "      <td>PACIFICA AWD 3.5L V6</td>\n",
              "      <td>Tou</td>\n",
              "      <td>4D SPORT</td>\n",
              "      <td>WHITE</td>\n",
              "      <td>AUTO</td>\n",
              "      <td>1.0</td>\n",
              "      <td>Alloy</td>\n",
              "      <td>78815</td>\n",
              "      <td>AMERICAN</td>\n",
              "      <td>CROSSOVER</td>\n",
              "      <td>CHRYSLER</td>\n",
              "      <td>6709.0</td>\n",
              "      <td>8078.0</td>\n",
              "      <td>7746.0</td>\n",
              "      <td>9224.0</td>\n",
              "      <td>6973.0</td>\n",
              "      <td>8453.0</td>\n",
              "      <td>8031.0</td>\n",
              "      <td>9629.0</td>\n",
              "      <td>NaN</td>\n",
              "      <td>NaN</td>\n",
              "      <td>21053</td>\n",
              "      <td>85226</td>\n",
              "      <td>AZ</td>\n",
              "      <td>8765.0</td>\n",
              "      <td>0</td>\n",
              "      <td>1857</td>\n",
              "    </tr>\n",
              "    <tr>\n",
              "      <th>46975</th>\n",
              "      <td>46999</td>\n",
              "      <td>0</td>\n",
              "      <td>6/30/2009</td>\n",
              "      <td>MANHEIM</td>\n",
              "      <td>2005</td>\n",
              "      <td>4</td>\n",
              "      <td>CHEVROLET</td>\n",
              "      <td>IMPALA 3.4L V6 SFI</td>\n",
              "      <td>Bas</td>\n",
              "      <td>4D SEDAN</td>\n",
              "      <td>WHITE</td>\n",
              "      <td>AUTO</td>\n",
              "      <td>2.0</td>\n",
              "      <td>Covers</td>\n",
              "      <td>89827</td>\n",
              "      <td>AMERICAN</td>\n",
              "      <td>LARGE</td>\n",
              "      <td>GM</td>\n",
              "      <td>4573.0</td>\n",
              "      <td>5967.0</td>\n",
              "      <td>5439.0</td>\n",
              "      <td>6944.0</td>\n",
              "      <td>4253.0</td>\n",
              "      <td>5659.0</td>\n",
              "      <td>5093.0</td>\n",
              "      <td>6612.0</td>\n",
              "      <td>NaN</td>\n",
              "      <td>NaN</td>\n",
              "      <td>20207</td>\n",
              "      <td>75050</td>\n",
              "      <td>TX</td>\n",
              "      <td>4810.0</td>\n",
              "      <td>0</td>\n",
              "      <td>2152</td>\n",
              "    </tr>\n",
              "    <tr>\n",
              "      <th>32921</th>\n",
              "      <td>32943</td>\n",
              "      <td>0</td>\n",
              "      <td>8/4/2009</td>\n",
              "      <td>MANHEIM</td>\n",
              "      <td>2005</td>\n",
              "      <td>4</td>\n",
              "      <td>CHEVROLET</td>\n",
              "      <td>UPLANDER FWD V6 3.5L</td>\n",
              "      <td>LS</td>\n",
              "      <td>PASSENGER EXT 3.5L LS</td>\n",
              "      <td>WHITE</td>\n",
              "      <td>AUTO</td>\n",
              "      <td>1.0</td>\n",
              "      <td>Alloy</td>\n",
              "      <td>79697</td>\n",
              "      <td>AMERICAN</td>\n",
              "      <td>VAN</td>\n",
              "      <td>GM</td>\n",
              "      <td>6677.0</td>\n",
              "      <td>8619.0</td>\n",
              "      <td>7711.0</td>\n",
              "      <td>9809.0</td>\n",
              "      <td>6804.0</td>\n",
              "      <td>8538.0</td>\n",
              "      <td>7848.0</td>\n",
              "      <td>9721.0</td>\n",
              "      <td>NaN</td>\n",
              "      <td>NaN</td>\n",
              "      <td>22916</td>\n",
              "      <td>80022</td>\n",
              "      <td>CO</td>\n",
              "      <td>7060.0</td>\n",
              "      <td>0</td>\n",
              "      <td>2091</td>\n",
              "    </tr>\n",
              "    <tr>\n",
              "      <th>47252</th>\n",
              "      <td>47276</td>\n",
              "      <td>0</td>\n",
              "      <td>1/12/2010</td>\n",
              "      <td>MANHEIM</td>\n",
              "      <td>2007</td>\n",
              "      <td>3</td>\n",
              "      <td>DODGE</td>\n",
              "      <td>CARAVAN GRAND FWD V6</td>\n",
              "      <td>SE</td>\n",
              "      <td>MINIVAN 3.3L</td>\n",
              "      <td>SILVER</td>\n",
              "      <td>AUTO</td>\n",
              "      <td>2.0</td>\n",
              "      <td>Covers</td>\n",
              "      <td>76386</td>\n",
              "      <td>AMERICAN</td>\n",
              "      <td>VAN</td>\n",
              "      <td>CHRYSLER</td>\n",
              "      <td>6885.0</td>\n",
              "      <td>8349.0</td>\n",
              "      <td>11244.0</td>\n",
              "      <td>12547.0</td>\n",
              "      <td>8055.0</td>\n",
              "      <td>9952.0</td>\n",
              "      <td>11401.0</td>\n",
              "      <td>14086.0</td>\n",
              "      <td>NaN</td>\n",
              "      <td>NaN</td>\n",
              "      <td>20207</td>\n",
              "      <td>75050</td>\n",
              "      <td>TX</td>\n",
              "      <td>6525.0</td>\n",
              "      <td>0</td>\n",
              "      <td>1623</td>\n",
              "    </tr>\n",
              "    <tr>\n",
              "      <th>8750</th>\n",
              "      <td>8758</td>\n",
              "      <td>0</td>\n",
              "      <td>9/10/2010</td>\n",
              "      <td>MANHEIM</td>\n",
              "      <td>2006</td>\n",
              "      <td>4</td>\n",
              "      <td>MITSUBISHI</td>\n",
              "      <td>ENDEAVOR FWD</td>\n",
              "      <td>LS</td>\n",
              "      <td>4D SPORT UTILITY LS</td>\n",
              "      <td>RED</td>\n",
              "      <td>AUTO</td>\n",
              "      <td>1.0</td>\n",
              "      <td>Alloy</td>\n",
              "      <td>84837</td>\n",
              "      <td>OTHER ASIAN</td>\n",
              "      <td>MEDIUM SUV</td>\n",
              "      <td>OTHER</td>\n",
              "      <td>8157.0</td>\n",
              "      <td>9304.0</td>\n",
              "      <td>11641.0</td>\n",
              "      <td>12714.0</td>\n",
              "      <td>7461.0</td>\n",
              "      <td>8378.0</td>\n",
              "      <td>10809.0</td>\n",
              "      <td>11757.0</td>\n",
              "      <td>NaN</td>\n",
              "      <td>NaN</td>\n",
              "      <td>18111</td>\n",
              "      <td>30272</td>\n",
              "      <td>GA</td>\n",
              "      <td>8010.0</td>\n",
              "      <td>0</td>\n",
              "      <td>594</td>\n",
              "    </tr>\n",
              "    <tr>\n",
              "      <th>53005</th>\n",
              "      <td>53033</td>\n",
              "      <td>0</td>\n",
              "      <td>9/22/2010</td>\n",
              "      <td>MANHEIM</td>\n",
              "      <td>2007</td>\n",
              "      <td>3</td>\n",
              "      <td>MITSUBISHI</td>\n",
              "      <td>GALANT 4C</td>\n",
              "      <td>ES</td>\n",
              "      <td>4D SEDAN</td>\n",
              "      <td>GREY</td>\n",
              "      <td>AUTO</td>\n",
              "      <td>2.0</td>\n",
              "      <td>Covers</td>\n",
              "      <td>64662</td>\n",
              "      <td>OTHER ASIAN</td>\n",
              "      <td>MEDIUM</td>\n",
              "      <td>OTHER</td>\n",
              "      <td>7730.0</td>\n",
              "      <td>8891.0</td>\n",
              "      <td>11191.0</td>\n",
              "      <td>12113.0</td>\n",
              "      <td>7398.0</td>\n",
              "      <td>8490.0</td>\n",
              "      <td>10745.0</td>\n",
              "      <td>11798.0</td>\n",
              "      <td>NaN</td>\n",
              "      <td>NaN</td>\n",
              "      <td>18111</td>\n",
              "      <td>37122</td>\n",
              "      <td>TN</td>\n",
              "      <td>7730.0</td>\n",
              "      <td>0</td>\n",
              "      <td>533</td>\n",
              "    </tr>\n",
              "    <tr>\n",
              "      <th>19752</th>\n",
              "      <td>19765</td>\n",
              "      <td>1</td>\n",
              "      <td>9/28/2009</td>\n",
              "      <td>OTHER</td>\n",
              "      <td>2005</td>\n",
              "      <td>4</td>\n",
              "      <td>FORD</td>\n",
              "      <td>EXPEDITION 4WD V8 5.</td>\n",
              "      <td>XLT</td>\n",
              "      <td>4D SUV 5.4L XLT</td>\n",
              "      <td>SILVER</td>\n",
              "      <td>AUTO</td>\n",
              "      <td>1.0</td>\n",
              "      <td>Alloy</td>\n",
              "      <td>85320</td>\n",
              "      <td>AMERICAN</td>\n",
              "      <td>LARGE SUV</td>\n",
              "      <td>FORD</td>\n",
              "      <td>11123.0</td>\n",
              "      <td>13097.0</td>\n",
              "      <td>12513.0</td>\n",
              "      <td>14645.0</td>\n",
              "      <td>10162.0</td>\n",
              "      <td>12177.0</td>\n",
              "      <td>14162.0</td>\n",
              "      <td>16393.0</td>\n",
              "      <td>NaN</td>\n",
              "      <td>NaN</td>\n",
              "      <td>21053</td>\n",
              "      <td>95673</td>\n",
              "      <td>CA</td>\n",
              "      <td>10420.0</td>\n",
              "      <td>0</td>\n",
              "      <td>1503</td>\n",
              "    </tr>\n",
              "    <tr>\n",
              "      <th>60876</th>\n",
              "      <td>60905</td>\n",
              "      <td>0</td>\n",
              "      <td>3/11/2010</td>\n",
              "      <td>MANHEIM</td>\n",
              "      <td>2002</td>\n",
              "      <td>8</td>\n",
              "      <td>GMC</td>\n",
              "      <td>ENVOY 4WD 6C</td>\n",
              "      <td>SLE</td>\n",
              "      <td>4D UTILITY 4.2L SLE</td>\n",
              "      <td>SILVER</td>\n",
              "      <td>AUTO</td>\n",
              "      <td>1.0</td>\n",
              "      <td>Alloy</td>\n",
              "      <td>82198</td>\n",
              "      <td>AMERICAN</td>\n",
              "      <td>MEDIUM SUV</td>\n",
              "      <td>GM</td>\n",
              "      <td>5815.0</td>\n",
              "      <td>6892.0</td>\n",
              "      <td>8783.0</td>\n",
              "      <td>9933.0</td>\n",
              "      <td>5756.0</td>\n",
              "      <td>6498.0</td>\n",
              "      <td>8584.0</td>\n",
              "      <td>9196.0</td>\n",
              "      <td>NaN</td>\n",
              "      <td>NaN</td>\n",
              "      <td>19638</td>\n",
              "      <td>33762</td>\n",
              "      <td>FL</td>\n",
              "      <td>8535.0</td>\n",
              "      <td>0</td>\n",
              "      <td>2452</td>\n",
              "    </tr>\n",
              "  </tbody>\n",
              "</table>\n",
              "</div>"
            ],
            "text/plain": [
              "       RefId  IsBadBuy  PurchDate  Auction  VehYear  VehicleAge        Make  \\\n",
              "6566    6573         0   6/4/2010  MANHEIM     2006           4       DODGE   \n",
              "71362  71394         0   7/2/2009    ADESA     2003           6      NISSAN   \n",
              "69677  69709         0  6/10/2009    ADESA     2005           4    CHRYSLER   \n",
              "46975  46999         0  6/30/2009  MANHEIM     2005           4   CHEVROLET   \n",
              "32921  32943         0   8/4/2009  MANHEIM     2005           4   CHEVROLET   \n",
              "47252  47276         0  1/12/2010  MANHEIM     2007           3       DODGE   \n",
              "8750    8758         0  9/10/2010  MANHEIM     2006           4  MITSUBISHI   \n",
              "53005  53033         0  9/22/2010  MANHEIM     2007           3  MITSUBISHI   \n",
              "19752  19765         1  9/28/2009    OTHER     2005           4        FORD   \n",
              "60876  60905         0  3/11/2010  MANHEIM     2002           8         GMC   \n",
              "\n",
              "                      Model Trim               SubModel   Color Transmission  \\\n",
              "6566             STRATUS V6  SXT       4D SEDAN SXT FFV   GREEN         AUTO   \n",
              "71362  XTERRA 4WD V6 3.3L V   SE    4D SPORT UTILITY SE   GREEN         AUTO   \n",
              "69677  PACIFICA AWD 3.5L V6  Tou               4D SPORT   WHITE         AUTO   \n",
              "46975    IMPALA 3.4L V6 SFI  Bas               4D SEDAN   WHITE         AUTO   \n",
              "32921  UPLANDER FWD V6 3.5L   LS  PASSENGER EXT 3.5L LS   WHITE         AUTO   \n",
              "47252  CARAVAN GRAND FWD V6   SE           MINIVAN 3.3L  SILVER         AUTO   \n",
              "8750           ENDEAVOR FWD   LS    4D SPORT UTILITY LS     RED         AUTO   \n",
              "53005             GALANT 4C   ES               4D SEDAN    GREY         AUTO   \n",
              "19752  EXPEDITION 4WD V8 5.  XLT        4D SUV 5.4L XLT  SILVER         AUTO   \n",
              "60876          ENVOY 4WD 6C  SLE    4D UTILITY 4.2L SLE  SILVER         AUTO   \n",
              "\n",
              "       WheelTypeID WheelType  VehOdo     Nationality        Size  \\\n",
              "6566           2.0    Covers   73108        AMERICAN      MEDIUM   \n",
              "71362          1.0     Alloy   64687  TOP LINE ASIAN  MEDIUM SUV   \n",
              "69677          1.0     Alloy   78815        AMERICAN   CROSSOVER   \n",
              "46975          2.0    Covers   89827        AMERICAN       LARGE   \n",
              "32921          1.0     Alloy   79697        AMERICAN         VAN   \n",
              "47252          2.0    Covers   76386        AMERICAN         VAN   \n",
              "8750           1.0     Alloy   84837     OTHER ASIAN  MEDIUM SUV   \n",
              "53005          2.0    Covers   64662     OTHER ASIAN      MEDIUM   \n",
              "19752          1.0     Alloy   85320        AMERICAN   LARGE SUV   \n",
              "60876          1.0     Alloy   82198        AMERICAN  MEDIUM SUV   \n",
              "\n",
              "      TopThreeAmericanName  MMRAcquisitionAuctionAveragePrice  \\\n",
              "6566              CHRYSLER                             5950.0   \n",
              "71362                OTHER                             6877.0   \n",
              "69677             CHRYSLER                             6709.0   \n",
              "46975                   GM                             4573.0   \n",
              "32921                   GM                             6677.0   \n",
              "47252             CHRYSLER                             6885.0   \n",
              "8750                 OTHER                             8157.0   \n",
              "53005                OTHER                             7730.0   \n",
              "19752                 FORD                            11123.0   \n",
              "60876                   GM                             5815.0   \n",
              "\n",
              "       MMRAcquisitionAuctionCleanPrice  MMRAcquisitionRetailAveragePrice  \\\n",
              "6566                            7323.0                           10243.0   \n",
              "71362                           7905.0                            7927.0   \n",
              "69677                           8078.0                            7746.0   \n",
              "46975                           5967.0                            5439.0   \n",
              "32921                           8619.0                            7711.0   \n",
              "47252                           8349.0                           11244.0   \n",
              "8750                            9304.0                           11641.0   \n",
              "53005                           8891.0                           11191.0   \n",
              "19752                          13097.0                           12513.0   \n",
              "60876                           6892.0                            8783.0   \n",
              "\n",
              "       MMRAcquisitonRetailCleanPrice  MMRCurrentAuctionAveragePrice  \\\n",
              "6566                         12607.0                         6194.0   \n",
              "71362                         9037.0                         6629.0   \n",
              "69677                         9224.0                         6973.0   \n",
              "46975                         6944.0                         4253.0   \n",
              "32921                         9809.0                         6804.0   \n",
              "47252                        12547.0                         8055.0   \n",
              "8750                         12714.0                         7461.0   \n",
              "53005                        12113.0                         7398.0   \n",
              "19752                        14645.0                        10162.0   \n",
              "60876                         9933.0                         5756.0   \n",
              "\n",
              "       MMRCurrentAuctionCleanPrice  MMRCurrentRetailAveragePrice  \\\n",
              "6566                        7031.0                        9346.0   \n",
              "71362                       7925.0                        7659.0   \n",
              "69677                       8453.0                        8031.0   \n",
              "46975                       5659.0                        5093.0   \n",
              "32921                       8538.0                        7848.0   \n",
              "47252                       9952.0                       11401.0   \n",
              "8750                        8378.0                       10809.0   \n",
              "53005                       8490.0                       10745.0   \n",
              "19752                      12177.0                       14162.0   \n",
              "60876                       6498.0                        8584.0   \n",
              "\n",
              "       MMRCurrentRetailCleanPrice PRIMEUNIT AUCGUART  BYRNO  VNZIP1 VNST  \\\n",
              "6566                       9963.0       NaN      NaN  99750   85040   AZ   \n",
              "71362                      9059.0       NaN      NaN  20928   28273   NC   \n",
              "69677                      9629.0       NaN      NaN  21053   85226   AZ   \n",
              "46975                      6612.0       NaN      NaN  20207   75050   TX   \n",
              "32921                      9721.0       NaN      NaN  22916   80022   CO   \n",
              "47252                     14086.0       NaN      NaN  20207   75050   TX   \n",
              "8750                      11757.0       NaN      NaN  18111   30272   GA   \n",
              "53005                     11798.0       NaN      NaN  18111   37122   TN   \n",
              "19752                     16393.0       NaN      NaN  21053   95673   CA   \n",
              "60876                      9196.0       NaN      NaN  19638   33762   FL   \n",
              "\n",
              "       VehBCost  IsOnlineSale  WarrantyCost  \n",
              "6566     6000.0             0          1389  \n",
              "71362    9550.0             0          1028  \n",
              "69677    8765.0             0          1857  \n",
              "46975    4810.0             0          2152  \n",
              "32921    7060.0             0          2091  \n",
              "47252    6525.0             0          1623  \n",
              "8750     8010.0             0           594  \n",
              "53005    7730.0             0           533  \n",
              "19752   10420.0             0          1503  \n",
              "60876    8535.0             0          2452  "
            ]
          },
          "execution_count": 10,
          "metadata": {},
          "output_type": "execute_result"
        }
      ]
    },
    {
      "cell_type": "code",
      "metadata": {
        "id": "RR4ie1jcz0qz",
        "outputId": "547bd1de-7608-4e78-a003-1201bcf6f42f"
      },
      "source": [
        "jovian.commit()"
      ],
      "execution_count": null,
      "outputs": [
        {
          "data": {
            "application/javascript": [
              "window.require && require([\"base/js/namespace\"],function(Jupyter){Jupyter.notebook.save_checkpoint()})"
            ],
            "text/plain": [
              "<IPython.core.display.Javascript object>"
            ]
          },
          "metadata": {},
          "output_type": "display_data"
        },
        {
          "name": "stdout",
          "output_type": "stream",
          "text": [
            "[jovian] Updating notebook \"nimesh-singh-mech/auction-car-ml-project\" on https://jovian.ai\u001b[0m\n",
            "[jovian] Committed successfully! https://jovian.ai/nimesh-singh-mech/auction-car-ml-project\u001b[0m\n"
          ]
        },
        {
          "data": {
            "text/plain": [
              "'https://jovian.ai/nimesh-singh-mech/auction-car-ml-project'"
            ]
          },
          "execution_count": 11,
          "metadata": {},
          "output_type": "execute_result"
        }
      ]
    },
    {
      "cell_type": "markdown",
      "metadata": {
        "id": "XZl0KXAXz0qz"
      },
      "source": [
        "# EDA\n",
        "\n"
      ]
    },
    {
      "cell_type": "code",
      "metadata": {
        "id": "tHxiliLVz0qz",
        "outputId": "274ae824-a657-41ce-d8b5-2d2faa81d9aa"
      },
      "source": [
        "EDA_df = train.copy()\n",
        "EDA_df.groupby(\"IsBadBuy\")"
      ],
      "execution_count": null,
      "outputs": [
        {
          "data": {
            "text/plain": [
              "<pandas.core.groupby.generic.DataFrameGroupBy object at 0x7feef8483250>"
            ]
          },
          "execution_count": 12,
          "metadata": {},
          "output_type": "execute_result"
        }
      ]
    },
    {
      "cell_type": "code",
      "metadata": {
        "id": "ehy7D2Q1z0q0",
        "outputId": "7c68b821-90a2-4260-9e3f-60db8acf8acd"
      },
      "source": [
        "corr = EDA_df.corr()\n",
        "corr.style.background_gradient(cmap='coolwarm')"
      ],
      "execution_count": null,
      "outputs": [
        {
          "data": {
            "text/html": [
              "<style type=\"text/css\">\n",
              "#T_85887_row0_col0, #T_85887_row1_col1, #T_85887_row2_col2, #T_85887_row3_col3, #T_85887_row4_col4, #T_85887_row5_col5, #T_85887_row6_col6, #T_85887_row7_col7, #T_85887_row8_col8, #T_85887_row9_col9, #T_85887_row10_col10, #T_85887_row11_col11, #T_85887_row12_col12, #T_85887_row13_col13, #T_85887_row14_col14, #T_85887_row15_col15, #T_85887_row16_col16, #T_85887_row17_col17, #T_85887_row18_col18 {\n",
              "  background-color: #b40426;\n",
              "  color: #f1f1f1;\n",
              "}\n",
              "#T_85887_row0_col1, #T_85887_row6_col17, #T_85887_row7_col17, #T_85887_row10_col17, #T_85887_row11_col17, #T_85887_row18_col14 {\n",
              "  background-color: #6c8ff1;\n",
              "  color: #f1f1f1;\n",
              "}\n",
              "#T_85887_row0_col2 {\n",
              "  background-color: #dbdcde;\n",
              "  color: #000000;\n",
              "}\n",
              "#T_85887_row0_col3 {\n",
              "  background-color: #d6dce4;\n",
              "  color: #000000;\n",
              "}\n",
              "#T_85887_row0_col4, #T_85887_row17_col18, #T_85887_row18_col16 {\n",
              "  background-color: #80a3fa;\n",
              "  color: #f1f1f1;\n",
              "}\n",
              "#T_85887_row0_col5, #T_85887_row15_col4 {\n",
              "  background-color: #7da0f9;\n",
              "  color: #f1f1f1;\n",
              "}\n",
              "#T_85887_row0_col6, #T_85887_row5_col11, #T_85887_row5_col13, #T_85887_row14_col3, #T_85887_row17_col9, #T_85887_row18_col2 {\n",
              "  background-color: #b1cbfc;\n",
              "  color: #000000;\n",
              "}\n",
              "#T_85887_row0_col7, #T_85887_row16_col3, #T_85887_row18_col6, #T_85887_row18_col10, #T_85887_row18_col11 {\n",
              "  background-color: #a9c6fd;\n",
              "  color: #000000;\n",
              "}\n",
              "#T_85887_row0_col8, #T_85887_row1_col10, #T_85887_row18_col12 {\n",
              "  background-color: #9dbdff;\n",
              "  color: #000000;\n",
              "}\n",
              "#T_85887_row0_col9, #T_85887_row1_col7, #T_85887_row11_col14 {\n",
              "  background-color: #96b7ff;\n",
              "  color: #000000;\n",
              "}\n",
              "#T_85887_row0_col10, #T_85887_row4_col3, #T_85887_row15_col12 {\n",
              "  background-color: #b3cdfb;\n",
              "  color: #000000;\n",
              "}\n",
              "#T_85887_row0_col11, #T_85887_row5_col8, #T_85887_row15_col8 {\n",
              "  background-color: #abc8fd;\n",
              "  color: #000000;\n",
              "}\n",
              "#T_85887_row0_col12, #T_85887_row15_col9 {\n",
              "  background-color: #a6c4fe;\n",
              "  color: #000000;\n",
              "}\n",
              "#T_85887_row0_col13 {\n",
              "  background-color: #9fbfff;\n",
              "  color: #000000;\n",
              "}\n",
              "#T_85887_row0_col14, #T_85887_row4_col13, #T_85887_row8_col5, #T_85887_row13_col3, #T_85887_row17_col5 {\n",
              "  background-color: #8caffe;\n",
              "  color: #000000;\n",
              "}\n",
              "#T_85887_row0_col15, #T_85887_row0_col18, #T_85887_row8_col17, #T_85887_row9_col17, #T_85887_row10_col3, #T_85887_row12_col17, #T_85887_row13_col17, #T_85887_row17_col4 {\n",
              "  background-color: #799cf8;\n",
              "  color: #f1f1f1;\n",
              "}\n",
              "#T_85887_row0_col16, #T_85887_row4_col9 {\n",
              "  background-color: #85a8fc;\n",
              "  color: #f1f1f1;\n",
              "}\n",
              "#T_85887_row0_col17 {\n",
              "  background-color: #536edd;\n",
              "  color: #f1f1f1;\n",
              "}\n",
              "#T_85887_row1_col0 {\n",
              "  background-color: #4f69d9;\n",
              "  color: #f1f1f1;\n",
              "}\n",
              "#T_85887_row1_col2, #T_85887_row2_col4, #T_85887_row14_col12 {\n",
              "  background-color: #c3d5f4;\n",
              "  color: #000000;\n",
              "}\n",
              "#T_85887_row1_col3 {\n",
              "  background-color: #eed0c0;\n",
              "  color: #000000;\n",
              "}\n",
              "#T_85887_row1_col4, #T_85887_row10_col18, #T_85887_row12_col18 {\n",
              "  background-color: #6f92f3;\n",
              "  color: #f1f1f1;\n",
              "}\n",
              "#T_85887_row1_col5, #T_85887_row4_col12 {\n",
              "  background-color: #9abbff;\n",
              "  color: #000000;\n",
              "}\n",
              "#T_85887_row1_col6 {\n",
              "  background-color: #9bbcff;\n",
              "  color: #000000;\n",
              "}\n",
              "#T_85887_row1_col8, #T_85887_row4_col7, #T_85887_row15_col14 {\n",
              "  background-color: #8fb1fe;\n",
              "  color: #000000;\n",
              "}\n",
              "#T_85887_row1_col9 {\n",
              "  background-color: #89acfd;\n",
              "  color: #000000;\n",
              "}\n",
              "#T_85887_row1_col11, #T_85887_row9_col14, #T_85887_row18_col8, #T_85887_row18_col9 {\n",
              "  background-color: #97b8ff;\n",
              "  color: #000000;\n",
              "}\n",
              "#T_85887_row1_col12, #T_85887_row4_col8, #T_85887_row4_col11 {\n",
              "  background-color: #93b5fe;\n",
              "  color: #000000;\n",
              "}\n",
              "#T_85887_row1_col13, #T_85887_row1_col18, #T_85887_row8_col3, #T_85887_row15_col16 {\n",
              "  background-color: #8db0fe;\n",
              "  color: #000000;\n",
              "}\n",
              "#T_85887_row1_col14 {\n",
              "  background-color: #7396f5;\n",
              "  color: #f1f1f1;\n",
              "}\n",
              "#T_85887_row1_col15, #T_85887_row4_col15, #T_85887_row14_col0 {\n",
              "  background-color: #516ddb;\n",
              "  color: #f1f1f1;\n",
              "}\n",
              "#T_85887_row1_col16 {\n",
              "  background-color: #6e90f2;\n",
              "  color: #f1f1f1;\n",
              "}\n",
              "#T_85887_row1_col17, #T_85887_row6_col4 {\n",
              "  background-color: #6180e9;\n",
              "  color: #f1f1f1;\n",
              "}\n",
              "#T_85887_row2_col0, #T_85887_row4_col5 {\n",
              "  background-color: #4b64d5;\n",
              "  color: #f1f1f1;\n",
              "}\n",
              "#T_85887_row2_col1, #T_85887_row2_col3, #T_85887_row2_col5, #T_85887_row2_col18, #T_85887_row3_col2, #T_85887_row3_col4, #T_85887_row3_col6, #T_85887_row3_col7, #T_85887_row3_col8, #T_85887_row3_col9, #T_85887_row3_col10, #T_85887_row3_col11, #T_85887_row3_col12, #T_85887_row3_col13, #T_85887_row3_col15, #T_85887_row3_col16, #T_85887_row5_col14, #T_85887_row14_col5, #T_85887_row14_col17, #T_85887_row17_col0 {\n",
              "  background-color: #3b4cc0;\n",
              "  color: #f1f1f1;\n",
              "}\n",
              "#T_85887_row2_col6, #T_85887_row2_col12 {\n",
              "  background-color: #f5a081;\n",
              "  color: #000000;\n",
              "}\n",
              "#T_85887_row2_col7 {\n",
              "  background-color: #f7af91;\n",
              "  color: #000000;\n",
              "}\n",
              "#T_85887_row2_col8 {\n",
              "  background-color: #f7a889;\n",
              "  color: #000000;\n",
              "}\n",
              "#T_85887_row2_col9 {\n",
              "  background-color: #f7b497;\n",
              "  color: #000000;\n",
              "}\n",
              "#T_85887_row2_col10 {\n",
              "  background-color: #f59d7e;\n",
              "  color: #000000;\n",
              "}\n",
              "#T_85887_row2_col11 {\n",
              "  background-color: #f7aa8c;\n",
              "  color: #000000;\n",
              "}\n",
              "#T_85887_row2_col13 {\n",
              "  background-color: #f7ac8e;\n",
              "  color: #000000;\n",
              "}\n",
              "#T_85887_row2_col14 {\n",
              "  background-color: #cdd9ec;\n",
              "  color: #000000;\n",
              "}\n",
              "#T_85887_row2_col15, #T_85887_row17_col1 {\n",
              "  background-color: #6485ec;\n",
              "  color: #f1f1f1;\n",
              "}\n",
              "#T_85887_row2_col16 {\n",
              "  background-color: #dedcdb;\n",
              "  color: #000000;\n",
              "}\n",
              "#T_85887_row2_col17, #T_85887_row6_col18, #T_85887_row15_col0, #T_85887_row16_col5 {\n",
              "  background-color: #7295f4;\n",
              "  color: #f1f1f1;\n",
              "}\n",
              "#T_85887_row3_col0, #T_85887_row5_col0, #T_85887_row5_col15, #T_85887_row13_col0 {\n",
              "  background-color: #4055c8;\n",
              "  color: #f1f1f1;\n",
              "}\n",
              "#T_85887_row3_col1, #T_85887_row13_col14 {\n",
              "  background-color: #98b9ff;\n",
              "  color: #000000;\n",
              "}\n",
              "#T_85887_row3_col5 {\n",
              "  background-color: #d5dbe5;\n",
              "  color: #000000;\n",
              "}\n",
              "#T_85887_row3_col14, #T_85887_row8_col0 {\n",
              "  background-color: #3f53c6;\n",
              "  color: #f1f1f1;\n",
              "}\n",
              "#T_85887_row3_col17, #T_85887_row8_col15, #T_85887_row11_col4, #T_85887_row13_col15 {\n",
              "  background-color: #5a78e4;\n",
              "  color: #f1f1f1;\n",
              "}\n",
              "#T_85887_row3_col18 {\n",
              "  background-color: #c5d6f2;\n",
              "  color: #000000;\n",
              "}\n",
              "#T_85887_row4_col0, #T_85887_row8_col1 {\n",
              "  background-color: #4c66d6;\n",
              "  color: #f1f1f1;\n",
              "}\n",
              "#T_85887_row4_col1, #T_85887_row9_col15 {\n",
              "  background-color: #5977e3;\n",
              "  color: #f1f1f1;\n",
              "}\n",
              "#T_85887_row4_col2, #T_85887_row18_col3 {\n",
              "  background-color: #f4c5ad;\n",
              "  color: #000000;\n",
              "}\n",
              "#T_85887_row4_col6, #T_85887_row18_col13 {\n",
              "  background-color: #9ebeff;\n",
              "  color: #000000;\n",
              "}\n",
              "#T_85887_row4_col10, #T_85887_row10_col14, #T_85887_row12_col14 {\n",
              "  background-color: #a2c1ff;\n",
              "  color: #000000;\n",
              "}\n",
              "#T_85887_row4_col14, #T_85887_row14_col13, #T_85887_row15_col7, #T_85887_row17_col8 {\n",
              "  background-color: #b6cefa;\n",
              "  color: #000000;\n",
              "}\n",
              "#T_85887_row4_col16, #T_85887_row10_col15, #T_85887_row17_col14 {\n",
              "  background-color: #5e7de7;\n",
              "  color: #f1f1f1;\n",
              "}\n",
              "#T_85887_row4_col17, #T_85887_row9_col4, #T_85887_row13_col4 {\n",
              "  background-color: #5f7fe8;\n",
              "  color: #f1f1f1;\n",
              "}\n",
              "#T_85887_row4_col18, #T_85887_row7_col15, #T_85887_row12_col15, #T_85887_row14_col15 {\n",
              "  background-color: #5b7ae5;\n",
              "  color: #f1f1f1;\n",
              "}\n",
              "#T_85887_row5_col1, #T_85887_row6_col5 {\n",
              "  background-color: #7ea1fa;\n",
              "  color: #f1f1f1;\n",
              "}\n",
              "#T_85887_row5_col2, #T_85887_row5_col10, #T_85887_row5_col12 {\n",
              "  background-color: #aec9fc;\n",
              "  color: #000000;\n",
              "}\n",
              "#T_85887_row5_col3 {\n",
              "  background-color: #f7bca1;\n",
              "  color: #000000;\n",
              "}\n",
              "#T_85887_row5_col4 {\n",
              "  background-color: #4358cb;\n",
              "  color: #f1f1f1;\n",
              "}\n",
              "#T_85887_row5_col6, #T_85887_row14_col4, #T_85887_row14_col9 {\n",
              "  background-color: #afcafc;\n",
              "  color: #000000;\n",
              "}\n",
              "#T_85887_row5_col7 {\n",
              "  background-color: #b2ccfb;\n",
              "  color: #000000;\n",
              "}\n",
              "#T_85887_row5_col9, #T_85887_row15_col13 {\n",
              "  background-color: #adc9fd;\n",
              "  color: #000000;\n",
              "}\n",
              "#T_85887_row5_col16, #T_85887_row9_col18, #T_85887_row11_col18 {\n",
              "  background-color: #779af7;\n",
              "  color: #f1f1f1;\n",
              "}\n",
              "#T_85887_row5_col17 {\n",
              "  background-color: #6a8bef;\n",
              "  color: #f1f1f1;\n",
              "}\n",
              "#T_85887_row5_col18 {\n",
              "  background-color: #e6d7cf;\n",
              "  color: #000000;\n",
              "}\n",
              "#T_85887_row6_col0, #T_85887_row10_col0, #T_85887_row16_col0, #T_85887_row18_col15 {\n",
              "  background-color: #455cce;\n",
              "  color: #f1f1f1;\n",
              "}\n",
              "#T_85887_row6_col1, #T_85887_row10_col1 {\n",
              "  background-color: #465ecf;\n",
              "  color: #f1f1f1;\n",
              "}\n",
              "#T_85887_row6_col2, #T_85887_row8_col2 {\n",
              "  background-color: #f08a6c;\n",
              "  color: #f1f1f1;\n",
              "}\n",
              "#T_85887_row6_col3, #T_85887_row10_col5 {\n",
              "  background-color: #7b9ff9;\n",
              "  color: #f1f1f1;\n",
              "}\n",
              "#T_85887_row6_col7, #T_85887_row7_col6, #T_85887_row8_col9, #T_85887_row9_col8, #T_85887_row10_col11, #T_85887_row11_col10, #T_85887_row12_col13, #T_85887_row13_col12 {\n",
              "  background-color: #b50927;\n",
              "  color: #f1f1f1;\n",
              "}\n",
              "#T_85887_row6_col8, #T_85887_row10_col13, #T_85887_row11_col12, #T_85887_row12_col8, #T_85887_row12_col11 {\n",
              "  background-color: #ca3b37;\n",
              "  color: #f1f1f1;\n",
              "}\n",
              "#T_85887_row6_col9, #T_85887_row8_col7, #T_85887_row8_col13, #T_85887_row9_col12, #T_85887_row9_col13, #T_85887_row13_col8, #T_85887_row13_col9 {\n",
              "  background-color: #cb3e38;\n",
              "  color: #f1f1f1;\n",
              "}\n",
              "#T_85887_row6_col10, #T_85887_row10_col6 {\n",
              "  background-color: #c32e31;\n",
              "  color: #f1f1f1;\n",
              "}\n",
              "#T_85887_row6_col11, #T_85887_row7_col11, #T_85887_row11_col6, #T_85887_row11_col7 {\n",
              "  background-color: #c43032;\n",
              "  color: #f1f1f1;\n",
              "}\n",
              "#T_85887_row6_col12, #T_85887_row13_col6, #T_85887_row13_col7 {\n",
              "  background-color: #d1493f;\n",
              "  color: #f1f1f1;\n",
              "}\n",
              "#T_85887_row6_col13, #T_85887_row7_col13 {\n",
              "  background-color: #d24b40;\n",
              "  color: #f1f1f1;\n",
              "}\n",
              "#T_85887_row6_col14, #T_85887_row8_col14 {\n",
              "  background-color: #a1c0ff;\n",
              "  color: #000000;\n",
              "}\n",
              "#T_85887_row6_col15, #T_85887_row11_col15 {\n",
              "  background-color: #5d7ce6;\n",
              "  color: #f1f1f1;\n",
              "}\n",
              "#T_85887_row6_col16 {\n",
              "  background-color: #e57058;\n",
              "  color: #f1f1f1;\n",
              "}\n",
              "#T_85887_row7_col0, #T_85887_row11_col0 {\n",
              "  background-color: #445acc;\n",
              "  color: #f1f1f1;\n",
              "}\n",
              "#T_85887_row7_col1, #T_85887_row11_col1, #T_85887_row12_col1, #T_85887_row13_col1 {\n",
              "  background-color: #4961d2;\n",
              "  color: #f1f1f1;\n",
              "}\n",
              "#T_85887_row7_col2 {\n",
              "  background-color: #f39577;\n",
              "  color: #000000;\n",
              "}\n",
              "#T_85887_row7_col3 {\n",
              "  background-color: #84a7fc;\n",
              "  color: #f1f1f1;\n",
              "}\n",
              "#T_85887_row7_col4, #T_85887_row18_col4 {\n",
              "  background-color: #5875e1;\n",
              "  color: #f1f1f1;\n",
              "}\n",
              "#T_85887_row7_col5 {\n",
              "  background-color: #8badfd;\n",
              "  color: #000000;\n",
              "}\n",
              "#T_85887_row7_col8, #T_85887_row12_col9 {\n",
              "  background-color: #cc403a;\n",
              "  color: #f1f1f1;\n",
              "}\n",
              "#T_85887_row7_col9, #T_85887_row8_col6, #T_85887_row8_col12, #T_85887_row9_col6, #T_85887_row10_col12, #T_85887_row13_col10 {\n",
              "  background-color: #c83836;\n",
              "  color: #f1f1f1;\n",
              "}\n",
              "#T_85887_row7_col10, #T_85887_row10_col7 {\n",
              "  background-color: #c53334;\n",
              "  color: #f1f1f1;\n",
              "}\n",
              "#T_85887_row7_col12, #T_85887_row12_col7 {\n",
              "  background-color: #d44e41;\n",
              "  color: #f1f1f1;\n",
              "}\n",
              "#T_85887_row7_col14, #T_85887_row9_col3, #T_85887_row9_col5, #T_85887_row14_col16 {\n",
              "  background-color: #94b6ff;\n",
              "  color: #000000;\n",
              "}\n",
              "#T_85887_row7_col16, #T_85887_row16_col13 {\n",
              "  background-color: #e7745b;\n",
              "  color: #f1f1f1;\n",
              "}\n",
              "#T_85887_row7_col18 {\n",
              "  background-color: #7a9df8;\n",
              "  color: #f1f1f1;\n",
              "}\n",
              "#T_85887_row8_col4, #T_85887_row12_col4, #T_85887_row14_col18, #T_85887_row15_col1 {\n",
              "  background-color: #6788ee;\n",
              "  color: #f1f1f1;\n",
              "}\n",
              "#T_85887_row8_col10, #T_85887_row9_col10, #T_85887_row9_col11 {\n",
              "  background-color: #d55042;\n",
              "  color: #f1f1f1;\n",
              "}\n",
              "#T_85887_row8_col11, #T_85887_row10_col8, #T_85887_row11_col9 {\n",
              "  background-color: #d65244;\n",
              "  color: #f1f1f1;\n",
              "}\n",
              "#T_85887_row8_col16, #T_85887_row9_col16 {\n",
              "  background-color: #ec8165;\n",
              "  color: #f1f1f1;\n",
              "}\n",
              "#T_85887_row8_col18 {\n",
              "  background-color: #7093f3;\n",
              "  color: #f1f1f1;\n",
              "}\n",
              "#T_85887_row9_col0 {\n",
              "  background-color: #3e51c5;\n",
              "  color: #f1f1f1;\n",
              "}\n",
              "#T_85887_row9_col1 {\n",
              "  background-color: #4e68d8;\n",
              "  color: #f1f1f1;\n",
              "}\n",
              "#T_85887_row9_col2 {\n",
              "  background-color: #f39475;\n",
              "  color: #000000;\n",
              "}\n",
              "#T_85887_row9_col7, #T_85887_row11_col13, #T_85887_row12_col10, #T_85887_row13_col11 {\n",
              "  background-color: #c73635;\n",
              "  color: #f1f1f1;\n",
              "}\n",
              "#T_85887_row10_col2 {\n",
              "  background-color: #ef886b;\n",
              "  color: #f1f1f1;\n",
              "}\n",
              "#T_85887_row10_col4 {\n",
              "  background-color: #6384eb;\n",
              "  color: #f1f1f1;\n",
              "}\n",
              "#T_85887_row10_col9 {\n",
              "  background-color: #d85646;\n",
              "  color: #f1f1f1;\n",
              "}\n",
              "#T_85887_row10_col16, #T_85887_row11_col16 {\n",
              "  background-color: #e8765c;\n",
              "  color: #f1f1f1;\n",
              "}\n",
              "#T_85887_row11_col2 {\n",
              "  background-color: #f29274;\n",
              "  color: #f1f1f1;\n",
              "}\n",
              "#T_85887_row11_col3 {\n",
              "  background-color: #81a4fb;\n",
              "  color: #f1f1f1;\n",
              "}\n",
              "#T_85887_row11_col5, #T_85887_row12_col3 {\n",
              "  background-color: #86a9fc;\n",
              "  color: #f1f1f1;\n",
              "}\n",
              "#T_85887_row11_col8 {\n",
              "  background-color: #d75445;\n",
              "  color: #f1f1f1;\n",
              "}\n",
              "#T_85887_row12_col0, #T_85887_row18_col0 {\n",
              "  background-color: #4257c9;\n",
              "  color: #f1f1f1;\n",
              "}\n",
              "#T_85887_row12_col2 {\n",
              "  background-color: #ee8669;\n",
              "  color: #f1f1f1;\n",
              "}\n",
              "#T_85887_row12_col5 {\n",
              "  background-color: #88abfd;\n",
              "  color: #000000;\n",
              "}\n",
              "#T_85887_row12_col6 {\n",
              "  background-color: #d0473d;\n",
              "  color: #f1f1f1;\n",
              "}\n",
              "#T_85887_row12_col16, #T_85887_row13_col16 {\n",
              "  background-color: #eb7d62;\n",
              "  color: #f1f1f1;\n",
              "}\n",
              "#T_85887_row13_col2 {\n",
              "  background-color: #f18f71;\n",
              "  color: #f1f1f1;\n",
              "}\n",
              "#T_85887_row13_col5, #T_85887_row16_col14 {\n",
              "  background-color: #90b2fe;\n",
              "  color: #000000;\n",
              "}\n",
              "#T_85887_row13_col18, #T_85887_row16_col18 {\n",
              "  background-color: #7699f6;\n",
              "  color: #f1f1f1;\n",
              "}\n",
              "#T_85887_row14_col1, #T_85887_row16_col15 {\n",
              "  background-color: #5470de;\n",
              "  color: #f1f1f1;\n",
              "}\n",
              "#T_85887_row14_col2 {\n",
              "  background-color: #f5c2aa;\n",
              "  color: #000000;\n",
              "}\n",
              "#T_85887_row14_col6 {\n",
              "  background-color: #cad8ef;\n",
              "  color: #000000;\n",
              "}\n",
              "#T_85887_row14_col7 {\n",
              "  background-color: #bad0f8;\n",
              "  color: #000000;\n",
              "}\n",
              "#T_85887_row14_col8, #T_85887_row15_col6, #T_85887_row17_col12 {\n",
              "  background-color: #bcd2f7;\n",
              "  color: #000000;\n",
              "}\n",
              "#T_85887_row14_col10 {\n",
              "  background-color: #cbd8ee;\n",
              "  color: #000000;\n",
              "}\n",
              "#T_85887_row14_col11, #T_85887_row17_col10 {\n",
              "  background-color: #bed2f6;\n",
              "  color: #000000;\n",
              "}\n",
              "#T_85887_row15_col2 {\n",
              "  background-color: #e3d9d3;\n",
              "  color: #000000;\n",
              "}\n",
              "#T_85887_row15_col3 {\n",
              "  background-color: #cfdaea;\n",
              "  color: #000000;\n",
              "}\n",
              "#T_85887_row15_col5, #T_85887_row15_col18, #T_85887_row18_col1 {\n",
              "  background-color: #7597f6;\n",
              "  color: #f1f1f1;\n",
              "}\n",
              "#T_85887_row15_col10 {\n",
              "  background-color: #bfd3f6;\n",
              "  color: #000000;\n",
              "}\n",
              "#T_85887_row15_col11 {\n",
              "  background-color: #b9d0f9;\n",
              "  color: #000000;\n",
              "}\n",
              "#T_85887_row15_col17 {\n",
              "  background-color: #688aef;\n",
              "  color: #f1f1f1;\n",
              "}\n",
              "#T_85887_row16_col1 {\n",
              "  background-color: #4a63d3;\n",
              "  color: #f1f1f1;\n",
              "}\n",
              "#T_85887_row16_col2 {\n",
              "  background-color: #f7b79b;\n",
              "  color: #000000;\n",
              "}\n",
              "#T_85887_row16_col4 {\n",
              "  background-color: #506bda;\n",
              "  color: #f1f1f1;\n",
              "}\n",
              "#T_85887_row16_col6 {\n",
              "  background-color: #e0654f;\n",
              "  color: #f1f1f1;\n",
              "}\n",
              "#T_85887_row16_col7 {\n",
              "  background-color: #e26952;\n",
              "  color: #f1f1f1;\n",
              "}\n",
              "#T_85887_row16_col8 {\n",
              "  background-color: #e9785d;\n",
              "  color: #f1f1f1;\n",
              "}\n",
              "#T_85887_row16_col9 {\n",
              "  background-color: #e97a5f;\n",
              "  color: #f1f1f1;\n",
              "}\n",
              "#T_85887_row16_col10 {\n",
              "  background-color: #e16751;\n",
              "  color: #f1f1f1;\n",
              "}\n",
              "#T_85887_row16_col11 {\n",
              "  background-color: #e36b54;\n",
              "  color: #f1f1f1;\n",
              "}\n",
              "#T_85887_row16_col12 {\n",
              "  background-color: #e67259;\n",
              "  color: #f1f1f1;\n",
              "}\n",
              "#T_85887_row16_col17 {\n",
              "  background-color: #6b8df0;\n",
              "  color: #f1f1f1;\n",
              "}\n",
              "#T_85887_row17_col2 {\n",
              "  background-color: #e1dad6;\n",
              "  color: #000000;\n",
              "}\n",
              "#T_85887_row17_col3 {\n",
              "  background-color: #d7dce3;\n",
              "  color: #000000;\n",
              "}\n",
              "#T_85887_row17_col6 {\n",
              "  background-color: #bbd1f8;\n",
              "  color: #000000;\n",
              "}\n",
              "#T_85887_row17_col7 {\n",
              "  background-color: #b5cdfa;\n",
              "  color: #000000;\n",
              "}\n",
              "#T_85887_row17_col11, #T_85887_row17_col13 {\n",
              "  background-color: #b7cff9;\n",
              "  color: #000000;\n",
              "}\n",
              "#T_85887_row17_col15 {\n",
              "  background-color: #5673e0;\n",
              "  color: #f1f1f1;\n",
              "}\n",
              "#T_85887_row17_col16 {\n",
              "  background-color: #92b4fe;\n",
              "  color: #000000;\n",
              "}\n",
              "#T_85887_row18_col5 {\n",
              "  background-color: #e8d6cc;\n",
              "  color: #000000;\n",
              "}\n",
              "#T_85887_row18_col7 {\n",
              "  background-color: #a7c5fe;\n",
              "  color: #000000;\n",
              "}\n",
              "#T_85887_row18_col17 {\n",
              "  background-color: #6282ea;\n",
              "  color: #f1f1f1;\n",
              "}\n",
              "</style>\n",
              "<table id=\"T_85887_\">\n",
              "  <thead>\n",
              "    <tr>\n",
              "      <th class=\"blank level0\" >&nbsp;</th>\n",
              "      <th class=\"col_heading level0 col0\" >RefId</th>\n",
              "      <th class=\"col_heading level0 col1\" >IsBadBuy</th>\n",
              "      <th class=\"col_heading level0 col2\" >VehYear</th>\n",
              "      <th class=\"col_heading level0 col3\" >VehicleAge</th>\n",
              "      <th class=\"col_heading level0 col4\" >WheelTypeID</th>\n",
              "      <th class=\"col_heading level0 col5\" >VehOdo</th>\n",
              "      <th class=\"col_heading level0 col6\" >MMRAcquisitionAuctionAveragePrice</th>\n",
              "      <th class=\"col_heading level0 col7\" >MMRAcquisitionAuctionCleanPrice</th>\n",
              "      <th class=\"col_heading level0 col8\" >MMRAcquisitionRetailAveragePrice</th>\n",
              "      <th class=\"col_heading level0 col9\" >MMRAcquisitonRetailCleanPrice</th>\n",
              "      <th class=\"col_heading level0 col10\" >MMRCurrentAuctionAveragePrice</th>\n",
              "      <th class=\"col_heading level0 col11\" >MMRCurrentAuctionCleanPrice</th>\n",
              "      <th class=\"col_heading level0 col12\" >MMRCurrentRetailAveragePrice</th>\n",
              "      <th class=\"col_heading level0 col13\" >MMRCurrentRetailCleanPrice</th>\n",
              "      <th class=\"col_heading level0 col14\" >BYRNO</th>\n",
              "      <th class=\"col_heading level0 col15\" >VNZIP1</th>\n",
              "      <th class=\"col_heading level0 col16\" >VehBCost</th>\n",
              "      <th class=\"col_heading level0 col17\" >IsOnlineSale</th>\n",
              "      <th class=\"col_heading level0 col18\" >WarrantyCost</th>\n",
              "    </tr>\n",
              "  </thead>\n",
              "  <tbody>\n",
              "    <tr>\n",
              "      <th id=\"T_85887_level0_row0\" class=\"row_heading level0 row0\" >RefId</th>\n",
              "      <td id=\"T_85887_row0_col0\" class=\"data row0 col0\" >1.000000</td>\n",
              "      <td id=\"T_85887_row0_col1\" class=\"data row0 col1\" >0.023973</td>\n",
              "      <td id=\"T_85887_row0_col2\" class=\"data row0 col2\" >0.010580</td>\n",
              "      <td id=\"T_85887_row0_col3\" class=\"data row0 col3\" >-0.025404</td>\n",
              "      <td id=\"T_85887_row0_col4\" class=\"data row0 col4\" >0.013110</td>\n",
              "      <td id=\"T_85887_row0_col5\" class=\"data row0 col5\" >-0.026553</td>\n",
              "      <td id=\"T_85887_row0_col6\" class=\"data row0 col6\" >-0.011568</td>\n",
              "      <td id=\"T_85887_row0_col7\" class=\"data row0 col7\" >-0.015704</td>\n",
              "      <td id=\"T_85887_row0_col8\" class=\"data row0 col8\" >-0.032208</td>\n",
              "      <td id=\"T_85887_row0_col9\" class=\"data row0 col9\" >-0.034324</td>\n",
              "      <td id=\"T_85887_row0_col10\" class=\"data row0 col10\" >-0.008742</td>\n",
              "      <td id=\"T_85887_row0_col11\" class=\"data row0 col11\" >-0.013015</td>\n",
              "      <td id=\"T_85887_row0_col12\" class=\"data row0 col12\" >-0.021616</td>\n",
              "      <td id=\"T_85887_row0_col13\" class=\"data row0 col13\" >-0.024369</td>\n",
              "      <td id=\"T_85887_row0_col14\" class=\"data row0 col14\" >0.032896</td>\n",
              "      <td id=\"T_85887_row0_col15\" class=\"data row0 col15\" >0.131898</td>\n",
              "      <td id=\"T_85887_row0_col16\" class=\"data row0 col16\" >-0.011873</td>\n",
              "      <td id=\"T_85887_row0_col17\" class=\"data row0 col17\" >-0.048851</td>\n",
              "      <td id=\"T_85887_row0_col18\" class=\"data row0 col18\" >-0.023478</td>\n",
              "    </tr>\n",
              "    <tr>\n",
              "      <th id=\"T_85887_level0_row1\" class=\"row_heading level0 row1\" >IsBadBuy</th>\n",
              "      <td id=\"T_85887_row1_col0\" class=\"data row1 col0\" >0.023973</td>\n",
              "      <td id=\"T_85887_row1_col1\" class=\"data row1 col1\" >1.000000</td>\n",
              "      <td id=\"T_85887_row1_col2\" class=\"data row1 col2\" >-0.158886</td>\n",
              "      <td id=\"T_85887_row1_col3\" class=\"data row1 col3\" >0.167164</td>\n",
              "      <td id=\"T_85887_row1_col4\" class=\"data row1 col4\" >-0.044620</td>\n",
              "      <td id=\"T_85887_row1_col5\" class=\"data row1 col5\" >0.082560</td>\n",
              "      <td id=\"T_85887_row1_col6\" class=\"data row1 col6\" >-0.109252</td>\n",
              "      <td id=\"T_85887_row1_col7\" class=\"data row1 col7\" >-0.102954</td>\n",
              "      <td id=\"T_85887_row1_col8\" class=\"data row1 col8\" >-0.087418</td>\n",
              "      <td id=\"T_85887_row1_col9\" class=\"data row1 col9\" >-0.083665</td>\n",
              "      <td id=\"T_85887_row1_col10\" class=\"data row1 col10\" >-0.109112</td>\n",
              "      <td id=\"T_85887_row1_col11\" class=\"data row1 col11\" >-0.104020</td>\n",
              "      <td id=\"T_85887_row1_col12\" class=\"data row1 col12\" >-0.103914</td>\n",
              "      <td id=\"T_85887_row1_col13\" class=\"data row1 col13\" >-0.100245</td>\n",
              "      <td id=\"T_85887_row1_col14\" class=\"data row1 col14\" >-0.061488</td>\n",
              "      <td id=\"T_85887_row1_col15\" class=\"data row1 col15\" >0.005796</td>\n",
              "      <td id=\"T_85887_row1_col16\" class=\"data row1 col16\" >-0.099911</td>\n",
              "      <td id=\"T_85887_row1_col17\" class=\"data row1 col17\" >-0.003697</td>\n",
              "      <td id=\"T_85887_row1_col18\" class=\"data row1 col18\" >0.052319</td>\n",
              "    </tr>\n",
              "    <tr>\n",
              "      <th id=\"T_85887_level0_row2\" class=\"row_heading level0 row2\" >VehYear</th>\n",
              "      <td id=\"T_85887_row2_col0\" class=\"data row2 col0\" >0.010580</td>\n",
              "      <td id=\"T_85887_row2_col1\" class=\"data row2 col1\" >-0.158886</td>\n",
              "      <td id=\"T_85887_row2_col2\" class=\"data row2 col2\" >1.000000</td>\n",
              "      <td id=\"T_85887_row2_col3\" class=\"data row2 col3\" >-0.957957</td>\n",
              "      <td id=\"T_85887_row2_col4\" class=\"data row2 col4\" >0.259660</td>\n",
              "      <td id=\"T_85887_row2_col5\" class=\"data row2 col5\" >-0.283719</td>\n",
              "      <td id=\"T_85887_row2_col6\" class=\"data row2 col6\" >0.581146</td>\n",
              "      <td id=\"T_85887_row2_col7\" class=\"data row2 col7\" >0.532927</td>\n",
              "      <td id=\"T_85887_row2_col8\" class=\"data row2 col8\" >0.581191</td>\n",
              "      <td id=\"T_85887_row2_col9\" class=\"data row2 col9\" >0.539230</td>\n",
              "      <td id=\"T_85887_row2_col10\" class=\"data row2 col10\" >0.590820</td>\n",
              "      <td id=\"T_85887_row2_col11\" class=\"data row2 col11\" >0.548426</td>\n",
              "      <td id=\"T_85887_row2_col12\" class=\"data row2 col12\" >0.598490</td>\n",
              "      <td id=\"T_85887_row2_col13\" class=\"data row2 col13\" >0.558669</td>\n",
              "      <td id=\"T_85887_row2_col14\" class=\"data row2 col14\" >0.280791</td>\n",
              "      <td id=\"T_85887_row2_col15\" class=\"data row2 col15\" >0.068276</td>\n",
              "      <td id=\"T_85887_row2_col16\" class=\"data row2 col16\" >0.349965</td>\n",
              "      <td id=\"T_85887_row2_col17\" class=\"data row2 col17\" >0.057380</td>\n",
              "      <td id=\"T_85887_row2_col18\" class=\"data row2 col18\" >-0.268696</td>\n",
              "    </tr>\n",
              "    <tr>\n",
              "      <th id=\"T_85887_level0_row3\" class=\"row_heading level0 row3\" >VehicleAge</th>\n",
              "      <td id=\"T_85887_row3_col0\" class=\"data row3 col0\" >-0.025404</td>\n",
              "      <td id=\"T_85887_row3_col1\" class=\"data row3 col1\" >0.167164</td>\n",
              "      <td id=\"T_85887_row3_col2\" class=\"data row3 col2\" >-0.957957</td>\n",
              "      <td id=\"T_85887_row3_col3\" class=\"data row3 col3\" >1.000000</td>\n",
              "      <td id=\"T_85887_row3_col4\" class=\"data row3 col4\" >-0.250801</td>\n",
              "      <td id=\"T_85887_row3_col5\" class=\"data row3 col5\" >0.319794</td>\n",
              "      <td id=\"T_85887_row3_col6\" class=\"data row3 col6\" >-0.565690</td>\n",
              "      <td id=\"T_85887_row3_col7\" class=\"data row3 col7\" >-0.518810</td>\n",
              "      <td id=\"T_85887_row3_col8\" class=\"data row3 col8\" >-0.460854</td>\n",
              "      <td id=\"T_85887_row3_col9\" class=\"data row3 col9\" >-0.426382</td>\n",
              "      <td id=\"T_85887_row3_col10\" class=\"data row3 col10\" >-0.575607</td>\n",
              "      <td id=\"T_85887_row3_col11\" class=\"data row3 col11\" >-0.532505</td>\n",
              "      <td id=\"T_85887_row3_col12\" class=\"data row3 col12\" >-0.504062</td>\n",
              "      <td id=\"T_85887_row3_col13\" class=\"data row3 col13\" >-0.469359</td>\n",
              "      <td id=\"T_85887_row3_col14\" class=\"data row3 col14\" >-0.268269</td>\n",
              "      <td id=\"T_85887_row3_col15\" class=\"data row3 col15\" >-0.074857</td>\n",
              "      <td id=\"T_85887_row3_col16\" class=\"data row3 col16\" >-0.312329</td>\n",
              "      <td id=\"T_85887_row3_col17\" class=\"data row3 col17\" >-0.024771</td>\n",
              "      <td id=\"T_85887_row3_col18\" class=\"data row3 col18\" >0.259310</td>\n",
              "    </tr>\n",
              "    <tr>\n",
              "      <th id=\"T_85887_level0_row4\" class=\"row_heading level0 row4\" >WheelTypeID</th>\n",
              "      <td id=\"T_85887_row4_col0\" class=\"data row4 col0\" >0.013110</td>\n",
              "      <td id=\"T_85887_row4_col1\" class=\"data row4 col1\" >-0.044620</td>\n",
              "      <td id=\"T_85887_row4_col2\" class=\"data row4 col2\" >0.259660</td>\n",
              "      <td id=\"T_85887_row4_col3\" class=\"data row4 col3\" >-0.250801</td>\n",
              "      <td id=\"T_85887_row4_col4\" class=\"data row4 col4\" >1.000000</td>\n",
              "      <td id=\"T_85887_row4_col5\" class=\"data row4 col5\" >-0.213558</td>\n",
              "      <td id=\"T_85887_row4_col6\" class=\"data row4 col6\" >-0.095471</td>\n",
              "      <td id=\"T_85887_row4_col7\" class=\"data row4 col7\" >-0.129597</td>\n",
              "      <td id=\"T_85887_row4_col8\" class=\"data row4 col8\" >-0.072700</td>\n",
              "      <td id=\"T_85887_row4_col9\" class=\"data row4 col9\" >-0.102019</td>\n",
              "      <td id=\"T_85887_row4_col10\" class=\"data row4 col10\" >-0.088597</td>\n",
              "      <td id=\"T_85887_row4_col11\" class=\"data row4 col11\" >-0.121211</td>\n",
              "      <td id=\"T_85887_row4_col12\" class=\"data row4 col12\" >-0.074420</td>\n",
              "      <td id=\"T_85887_row4_col13\" class=\"data row4 col13\" >-0.102488</td>\n",
              "      <td id=\"T_85887_row4_col14\" class=\"data row4 col14\" >0.187199</td>\n",
              "      <td id=\"T_85887_row4_col15\" class=\"data row4 col15\" >0.007901</td>\n",
              "      <td id=\"T_85887_row4_col16\" class=\"data row4 col16\" >-0.162826</td>\n",
              "      <td id=\"T_85887_row4_col17\" class=\"data row4 col17\" >-0.006747</td>\n",
              "      <td id=\"T_85887_row4_col18\" class=\"data row4 col18\" >-0.132798</td>\n",
              "    </tr>\n",
              "    <tr>\n",
              "      <th id=\"T_85887_level0_row5\" class=\"row_heading level0 row5\" >VehOdo</th>\n",
              "      <td id=\"T_85887_row5_col0\" class=\"data row5 col0\" >-0.026553</td>\n",
              "      <td id=\"T_85887_row5_col1\" class=\"data row5 col1\" >0.082560</td>\n",
              "      <td id=\"T_85887_row5_col2\" class=\"data row5 col2\" >-0.283719</td>\n",
              "      <td id=\"T_85887_row5_col3\" class=\"data row5 col3\" >0.319794</td>\n",
              "      <td id=\"T_85887_row5_col4\" class=\"data row5 col4\" >-0.213558</td>\n",
              "      <td id=\"T_85887_row5_col5\" class=\"data row5 col5\" >1.000000</td>\n",
              "      <td id=\"T_85887_row5_col6\" class=\"data row5 col6\" >-0.017022</td>\n",
              "      <td id=\"T_85887_row5_col7\" class=\"data row5 col7\" >0.024617</td>\n",
              "      <td id=\"T_85887_row5_col8\" class=\"data row5 col8\" >0.031306</td>\n",
              "      <td id=\"T_85887_row5_col9\" class=\"data row5 col9\" >0.063165</td>\n",
              "      <td id=\"T_85887_row5_col10\" class=\"data row5 col10\" >-0.028568</td>\n",
              "      <td id=\"T_85887_row5_col11\" class=\"data row5 col11\" >0.012107</td>\n",
              "      <td id=\"T_85887_row5_col12\" class=\"data row5 col12\" >0.015811</td>\n",
              "      <td id=\"T_85887_row5_col13\" class=\"data row5 col13\" >0.048005</td>\n",
              "      <td id=\"T_85887_row5_col14\" class=\"data row5 col14\" >-0.288456</td>\n",
              "      <td id=\"T_85887_row5_col15\" class=\"data row5 col15\" >-0.053041</td>\n",
              "      <td id=\"T_85887_row5_col16\" class=\"data row5 col16\" >-0.062008</td>\n",
              "      <td id=\"T_85887_row5_col17\" class=\"data row5 col17\" >0.029556</td>\n",
              "      <td id=\"T_85887_row5_col18\" class=\"data row5 col18\" >0.411718</td>\n",
              "    </tr>\n",
              "    <tr>\n",
              "      <th id=\"T_85887_level0_row6\" class=\"row_heading level0 row6\" >MMRAcquisitionAuctionAveragePrice</th>\n",
              "      <td id=\"T_85887_row6_col0\" class=\"data row6 col0\" >-0.011568</td>\n",
              "      <td id=\"T_85887_row6_col1\" class=\"data row6 col1\" >-0.109252</td>\n",
              "      <td id=\"T_85887_row6_col2\" class=\"data row6 col2\" >0.581146</td>\n",
              "      <td id=\"T_85887_row6_col3\" class=\"data row6 col3\" >-0.565690</td>\n",
              "      <td id=\"T_85887_row6_col4\" class=\"data row6 col4\" >-0.095471</td>\n",
              "      <td id=\"T_85887_row6_col5\" class=\"data row6 col5\" >-0.017022</td>\n",
              "      <td id=\"T_85887_row6_col6\" class=\"data row6 col6\" >1.000000</td>\n",
              "      <td id=\"T_85887_row6_col7\" class=\"data row6 col7\" >0.990347</td>\n",
              "      <td id=\"T_85887_row6_col8\" class=\"data row6 col8\" >0.910391</td>\n",
              "      <td id=\"T_85887_row6_col9\" class=\"data row6 col9\" >0.910187</td>\n",
              "      <td id=\"T_85887_row6_col10\" class=\"data row6 col10\" >0.937817</td>\n",
              "      <td id=\"T_85887_row6_col11\" class=\"data row6 col11\" >0.932492</td>\n",
              "      <td id=\"T_85887_row6_col12\" class=\"data row6 col12\" >0.871755</td>\n",
              "      <td id=\"T_85887_row6_col13\" class=\"data row6 col13\" >0.871042</td>\n",
              "      <td id=\"T_85887_row6_col14\" class=\"data row6 col14\" >0.107734</td>\n",
              "      <td id=\"T_85887_row6_col15\" class=\"data row6 col15\" >0.045694</td>\n",
              "      <td id=\"T_85887_row6_col16\" class=\"data row6 col16\" >0.789840</td>\n",
              "      <td id=\"T_85887_row6_col17\" class=\"data row6 col17\" >0.038818</td>\n",
              "      <td id=\"T_85887_row6_col18\" class=\"data row6 col18\" >-0.050417</td>\n",
              "    </tr>\n",
              "    <tr>\n",
              "      <th id=\"T_85887_level0_row7\" class=\"row_heading level0 row7\" >MMRAcquisitionAuctionCleanPrice</th>\n",
              "      <td id=\"T_85887_row7_col0\" class=\"data row7 col0\" >-0.015704</td>\n",
              "      <td id=\"T_85887_row7_col1\" class=\"data row7 col1\" >-0.102954</td>\n",
              "      <td id=\"T_85887_row7_col2\" class=\"data row7 col2\" >0.532927</td>\n",
              "      <td id=\"T_85887_row7_col3\" class=\"data row7 col3\" >-0.518810</td>\n",
              "      <td id=\"T_85887_row7_col4\" class=\"data row7 col4\" >-0.129597</td>\n",
              "      <td id=\"T_85887_row7_col5\" class=\"data row7 col5\" >0.024617</td>\n",
              "      <td id=\"T_85887_row7_col6\" class=\"data row7 col6\" >0.990347</td>\n",
              "      <td id=\"T_85887_row7_col7\" class=\"data row7 col7\" >1.000000</td>\n",
              "      <td id=\"T_85887_row7_col8\" class=\"data row7 col8\" >0.902718</td>\n",
              "      <td id=\"T_85887_row7_col9\" class=\"data row7 col9\" >0.918242</td>\n",
              "      <td id=\"T_85887_row7_col10\" class=\"data row7 col10\" >0.923610</td>\n",
              "      <td id=\"T_85887_row7_col11\" class=\"data row7 col11\" >0.932114</td>\n",
              "      <td id=\"T_85887_row7_col12\" class=\"data row7 col12\" >0.860716</td>\n",
              "      <td id=\"T_85887_row7_col13\" class=\"data row7 col13\" >0.871203</td>\n",
              "      <td id=\"T_85887_row7_col14\" class=\"data row7 col14\" >0.062502</td>\n",
              "      <td id=\"T_85887_row7_col15\" class=\"data row7 col15\" >0.040675</td>\n",
              "      <td id=\"T_85887_row7_col16\" class=\"data row7 col16\" >0.781516</td>\n",
              "      <td id=\"T_85887_row7_col17\" class=\"data row7 col17\" >0.038667</td>\n",
              "      <td id=\"T_85887_row7_col18\" class=\"data row7 col18\" >-0.020644</td>\n",
              "    </tr>\n",
              "    <tr>\n",
              "      <th id=\"T_85887_level0_row8\" class=\"row_heading level0 row8\" >MMRAcquisitionRetailAveragePrice</th>\n",
              "      <td id=\"T_85887_row8_col0\" class=\"data row8 col0\" >-0.032208</td>\n",
              "      <td id=\"T_85887_row8_col1\" class=\"data row8 col1\" >-0.087418</td>\n",
              "      <td id=\"T_85887_row8_col2\" class=\"data row8 col2\" >0.581191</td>\n",
              "      <td id=\"T_85887_row8_col3\" class=\"data row8 col3\" >-0.460854</td>\n",
              "      <td id=\"T_85887_row8_col4\" class=\"data row8 col4\" >-0.072700</td>\n",
              "      <td id=\"T_85887_row8_col5\" class=\"data row8 col5\" >0.031306</td>\n",
              "      <td id=\"T_85887_row8_col6\" class=\"data row8 col6\" >0.910391</td>\n",
              "      <td id=\"T_85887_row8_col7\" class=\"data row8 col7\" >0.902718</td>\n",
              "      <td id=\"T_85887_row8_col8\" class=\"data row8 col8\" >1.000000</td>\n",
              "      <td id=\"T_85887_row8_col9\" class=\"data row8 col9\" >0.990201</td>\n",
              "      <td id=\"T_85887_row8_col10\" class=\"data row8 col10\" >0.851647</td>\n",
              "      <td id=\"T_85887_row8_col11\" class=\"data row8 col11\" >0.849407</td>\n",
              "      <td id=\"T_85887_row8_col12\" class=\"data row8 col12\" >0.913108</td>\n",
              "      <td id=\"T_85887_row8_col13\" class=\"data row8 col13\" >0.906054</td>\n",
              "      <td id=\"T_85887_row8_col14\" class=\"data row8 col14\" >0.107516</td>\n",
              "      <td id=\"T_85887_row8_col15\" class=\"data row8 col15\" >0.035489</td>\n",
              "      <td id=\"T_85887_row8_col16\" class=\"data row8 col16\" >0.746126</td>\n",
              "      <td id=\"T_85887_row8_col17\" class=\"data row8 col17\" >0.080627</td>\n",
              "      <td id=\"T_85887_row8_col18\" class=\"data row8 col18\" >-0.053444</td>\n",
              "    </tr>\n",
              "    <tr>\n",
              "      <th id=\"T_85887_level0_row9\" class=\"row_heading level0 row9\" >MMRAcquisitonRetailCleanPrice</th>\n",
              "      <td id=\"T_85887_row9_col0\" class=\"data row9 col0\" >-0.034324</td>\n",
              "      <td id=\"T_85887_row9_col1\" class=\"data row9 col1\" >-0.083665</td>\n",
              "      <td id=\"T_85887_row9_col2\" class=\"data row9 col2\" >0.539230</td>\n",
              "      <td id=\"T_85887_row9_col3\" class=\"data row9 col3\" >-0.426382</td>\n",
              "      <td id=\"T_85887_row9_col4\" class=\"data row9 col4\" >-0.102019</td>\n",
              "      <td id=\"T_85887_row9_col5\" class=\"data row9 col5\" >0.063165</td>\n",
              "      <td id=\"T_85887_row9_col6\" class=\"data row9 col6\" >0.910187</td>\n",
              "      <td id=\"T_85887_row9_col7\" class=\"data row9 col7\" >0.918242</td>\n",
              "      <td id=\"T_85887_row9_col8\" class=\"data row9 col8\" >0.990201</td>\n",
              "      <td id=\"T_85887_row9_col9\" class=\"data row9 col9\" >1.000000</td>\n",
              "      <td id=\"T_85887_row9_col10\" class=\"data row9 col10\" >0.846914</td>\n",
              "      <td id=\"T_85887_row9_col11\" class=\"data row9 col11\" >0.855689</td>\n",
              "      <td id=\"T_85887_row9_col12\" class=\"data row9 col12\" >0.903188</td>\n",
              "      <td id=\"T_85887_row9_col13\" class=\"data row9 col13\" >0.906810</td>\n",
              "      <td id=\"T_85887_row9_col14\" class=\"data row9 col14\" >0.069676</td>\n",
              "      <td id=\"T_85887_row9_col15\" class=\"data row9 col15\" >0.031284</td>\n",
              "      <td id=\"T_85887_row9_col16\" class=\"data row9 col16\" >0.744966</td>\n",
              "      <td id=\"T_85887_row9_col17\" class=\"data row9 col17\" >0.077670</td>\n",
              "      <td id=\"T_85887_row9_col18\" class=\"data row9 col18\" >-0.026933</td>\n",
              "    </tr>\n",
              "    <tr>\n",
              "      <th id=\"T_85887_level0_row10\" class=\"row_heading level0 row10\" >MMRCurrentAuctionAveragePrice</th>\n",
              "      <td id=\"T_85887_row10_col0\" class=\"data row10 col0\" >-0.008742</td>\n",
              "      <td id=\"T_85887_row10_col1\" class=\"data row10 col1\" >-0.109112</td>\n",
              "      <td id=\"T_85887_row10_col2\" class=\"data row10 col2\" >0.590820</td>\n",
              "      <td id=\"T_85887_row10_col3\" class=\"data row10 col3\" >-0.575607</td>\n",
              "      <td id=\"T_85887_row10_col4\" class=\"data row10 col4\" >-0.088597</td>\n",
              "      <td id=\"T_85887_row10_col5\" class=\"data row10 col5\" >-0.028568</td>\n",
              "      <td id=\"T_85887_row10_col6\" class=\"data row10 col6\" >0.937817</td>\n",
              "      <td id=\"T_85887_row10_col7\" class=\"data row10 col7\" >0.923610</td>\n",
              "      <td id=\"T_85887_row10_col8\" class=\"data row10 col8\" >0.851647</td>\n",
              "      <td id=\"T_85887_row10_col9\" class=\"data row10 col9\" >0.846914</td>\n",
              "      <td id=\"T_85887_row10_col10\" class=\"data row10 col10\" >1.000000</td>\n",
              "      <td id=\"T_85887_row10_col11\" class=\"data row10 col11\" >0.990329</td>\n",
              "      <td id=\"T_85887_row10_col12\" class=\"data row10 col12\" >0.915073</td>\n",
              "      <td id=\"T_85887_row10_col13\" class=\"data row10 col13\" >0.912231</td>\n",
              "      <td id=\"T_85887_row10_col14\" class=\"data row10 col14\" >0.111363</td>\n",
              "      <td id=\"T_85887_row10_col15\" class=\"data row10 col15\" >0.048965</td>\n",
              "      <td id=\"T_85887_row10_col16\" class=\"data row10 col16\" >0.778738</td>\n",
              "      <td id=\"T_85887_row10_col17\" class=\"data row10 col17\" >0.039876</td>\n",
              "      <td id=\"T_85887_row10_col18\" class=\"data row10 col18\" >-0.056798</td>\n",
              "    </tr>\n",
              "    <tr>\n",
              "      <th id=\"T_85887_level0_row11\" class=\"row_heading level0 row11\" >MMRCurrentAuctionCleanPrice</th>\n",
              "      <td id=\"T_85887_row11_col0\" class=\"data row11 col0\" >-0.013015</td>\n",
              "      <td id=\"T_85887_row11_col1\" class=\"data row11 col1\" >-0.104020</td>\n",
              "      <td id=\"T_85887_row11_col2\" class=\"data row11 col2\" >0.548426</td>\n",
              "      <td id=\"T_85887_row11_col3\" class=\"data row11 col3\" >-0.532505</td>\n",
              "      <td id=\"T_85887_row11_col4\" class=\"data row11 col4\" >-0.121211</td>\n",
              "      <td id=\"T_85887_row11_col5\" class=\"data row11 col5\" >0.012107</td>\n",
              "      <td id=\"T_85887_row11_col6\" class=\"data row11 col6\" >0.932492</td>\n",
              "      <td id=\"T_85887_row11_col7\" class=\"data row11 col7\" >0.932114</td>\n",
              "      <td id=\"T_85887_row11_col8\" class=\"data row11 col8\" >0.849407</td>\n",
              "      <td id=\"T_85887_row11_col9\" class=\"data row11 col9\" >0.855689</td>\n",
              "      <td id=\"T_85887_row11_col10\" class=\"data row11 col10\" >0.990329</td>\n",
              "      <td id=\"T_85887_row11_col11\" class=\"data row11 col11\" >1.000000</td>\n",
              "      <td id=\"T_85887_row11_col12\" class=\"data row11 col12\" >0.908669</td>\n",
              "      <td id=\"T_85887_row11_col13\" class=\"data row11 col13\" >0.921536</td>\n",
              "      <td id=\"T_85887_row11_col14\" class=\"data row11 col14\" >0.068801</td>\n",
              "      <td id=\"T_85887_row11_col15\" class=\"data row11 col15\" >0.043684</td>\n",
              "      <td id=\"T_85887_row11_col16\" class=\"data row11 col16\" >0.775100</td>\n",
              "      <td id=\"T_85887_row11_col17\" class=\"data row11 col17\" >0.040240</td>\n",
              "      <td id=\"T_85887_row11_col18\" class=\"data row11 col18\" >-0.028131</td>\n",
              "    </tr>\n",
              "    <tr>\n",
              "      <th id=\"T_85887_level0_row12\" class=\"row_heading level0 row12\" >MMRCurrentRetailAveragePrice</th>\n",
              "      <td id=\"T_85887_row12_col0\" class=\"data row12 col0\" >-0.021616</td>\n",
              "      <td id=\"T_85887_row12_col1\" class=\"data row12 col1\" >-0.103914</td>\n",
              "      <td id=\"T_85887_row12_col2\" class=\"data row12 col2\" >0.598490</td>\n",
              "      <td id=\"T_85887_row12_col3\" class=\"data row12 col3\" >-0.504062</td>\n",
              "      <td id=\"T_85887_row12_col4\" class=\"data row12 col4\" >-0.074420</td>\n",
              "      <td id=\"T_85887_row12_col5\" class=\"data row12 col5\" >0.015811</td>\n",
              "      <td id=\"T_85887_row12_col6\" class=\"data row12 col6\" >0.871755</td>\n",
              "      <td id=\"T_85887_row12_col7\" class=\"data row12 col7\" >0.860716</td>\n",
              "      <td id=\"T_85887_row12_col8\" class=\"data row12 col8\" >0.913108</td>\n",
              "      <td id=\"T_85887_row12_col9\" class=\"data row12 col9\" >0.903188</td>\n",
              "      <td id=\"T_85887_row12_col10\" class=\"data row12 col10\" >0.915073</td>\n",
              "      <td id=\"T_85887_row12_col11\" class=\"data row12 col11\" >0.908669</td>\n",
              "      <td id=\"T_85887_row12_col12\" class=\"data row12 col12\" >1.000000</td>\n",
              "      <td id=\"T_85887_row12_col13\" class=\"data row12 col13\" >0.989760</td>\n",
              "      <td id=\"T_85887_row12_col14\" class=\"data row12 col14\" >0.111190</td>\n",
              "      <td id=\"T_85887_row12_col15\" class=\"data row12 col15\" >0.039190</td>\n",
              "      <td id=\"T_85887_row12_col16\" class=\"data row12 col16\" >0.756816</td>\n",
              "      <td id=\"T_85887_row12_col17\" class=\"data row12 col17\" >0.079535</td>\n",
              "      <td id=\"T_85887_row12_col18\" class=\"data row12 col18\" >-0.058025</td>\n",
              "    </tr>\n",
              "    <tr>\n",
              "      <th id=\"T_85887_level0_row13\" class=\"row_heading level0 row13\" >MMRCurrentRetailCleanPrice</th>\n",
              "      <td id=\"T_85887_row13_col0\" class=\"data row13 col0\" >-0.024369</td>\n",
              "      <td id=\"T_85887_row13_col1\" class=\"data row13 col1\" >-0.100245</td>\n",
              "      <td id=\"T_85887_row13_col2\" class=\"data row13 col2\" >0.558669</td>\n",
              "      <td id=\"T_85887_row13_col3\" class=\"data row13 col3\" >-0.469359</td>\n",
              "      <td id=\"T_85887_row13_col4\" class=\"data row13 col4\" >-0.102488</td>\n",
              "      <td id=\"T_85887_row13_col5\" class=\"data row13 col5\" >0.048005</td>\n",
              "      <td id=\"T_85887_row13_col6\" class=\"data row13 col6\" >0.871042</td>\n",
              "      <td id=\"T_85887_row13_col7\" class=\"data row13 col7\" >0.871203</td>\n",
              "      <td id=\"T_85887_row13_col8\" class=\"data row13 col8\" >0.906054</td>\n",
              "      <td id=\"T_85887_row13_col9\" class=\"data row13 col9\" >0.906810</td>\n",
              "      <td id=\"T_85887_row13_col10\" class=\"data row13 col10\" >0.912231</td>\n",
              "      <td id=\"T_85887_row13_col11\" class=\"data row13 col11\" >0.921536</td>\n",
              "      <td id=\"T_85887_row13_col12\" class=\"data row13 col12\" >0.989760</td>\n",
              "      <td id=\"T_85887_row13_col13\" class=\"data row13 col13\" >1.000000</td>\n",
              "      <td id=\"T_85887_row13_col14\" class=\"data row13 col14\" >0.074903</td>\n",
              "      <td id=\"T_85887_row13_col15\" class=\"data row13 col15\" >0.034688</td>\n",
              "      <td id=\"T_85887_row13_col16\" class=\"data row13 col16\" >0.756662</td>\n",
              "      <td id=\"T_85887_row13_col17\" class=\"data row13 col17\" >0.076587</td>\n",
              "      <td id=\"T_85887_row13_col18\" class=\"data row13 col18\" >-0.031683</td>\n",
              "    </tr>\n",
              "    <tr>\n",
              "      <th id=\"T_85887_level0_row14\" class=\"row_heading level0 row14\" >BYRNO</th>\n",
              "      <td id=\"T_85887_row14_col0\" class=\"data row14 col0\" >0.032896</td>\n",
              "      <td id=\"T_85887_row14_col1\" class=\"data row14 col1\" >-0.061488</td>\n",
              "      <td id=\"T_85887_row14_col2\" class=\"data row14 col2\" >0.280791</td>\n",
              "      <td id=\"T_85887_row14_col3\" class=\"data row14 col3\" >-0.268269</td>\n",
              "      <td id=\"T_85887_row14_col4\" class=\"data row14 col4\" >0.187199</td>\n",
              "      <td id=\"T_85887_row14_col5\" class=\"data row14 col5\" >-0.288456</td>\n",
              "      <td id=\"T_85887_row14_col6\" class=\"data row14 col6\" >0.107734</td>\n",
              "      <td id=\"T_85887_row14_col7\" class=\"data row14 col7\" >0.062502</td>\n",
              "      <td id=\"T_85887_row14_col8\" class=\"data row14 col8\" >0.107516</td>\n",
              "      <td id=\"T_85887_row14_col9\" class=\"data row14 col9\" >0.069676</td>\n",
              "      <td id=\"T_85887_row14_col10\" class=\"data row14 col10\" >0.111363</td>\n",
              "      <td id=\"T_85887_row14_col11\" class=\"data row14 col11\" >0.068801</td>\n",
              "      <td id=\"T_85887_row14_col12\" class=\"data row14 col12\" >0.111190</td>\n",
              "      <td id=\"T_85887_row14_col13\" class=\"data row14 col13\" >0.074903</td>\n",
              "      <td id=\"T_85887_row14_col14\" class=\"data row14 col14\" >1.000000</td>\n",
              "      <td id=\"T_85887_row14_col15\" class=\"data row14 col15\" >0.040260</td>\n",
              "      <td id=\"T_85887_row14_col16\" class=\"data row14 col16\" >0.046215</td>\n",
              "      <td id=\"T_85887_row14_col17\" class=\"data row14 col17\" >-0.142444</td>\n",
              "      <td id=\"T_85887_row14_col18\" class=\"data row14 col18\" >-0.086201</td>\n",
              "    </tr>\n",
              "    <tr>\n",
              "      <th id=\"T_85887_level0_row15\" class=\"row_heading level0 row15\" >VNZIP1</th>\n",
              "      <td id=\"T_85887_row15_col0\" class=\"data row15 col0\" >0.131898</td>\n",
              "      <td id=\"T_85887_row15_col1\" class=\"data row15 col1\" >0.005796</td>\n",
              "      <td id=\"T_85887_row15_col2\" class=\"data row15 col2\" >0.068276</td>\n",
              "      <td id=\"T_85887_row15_col3\" class=\"data row15 col3\" >-0.074857</td>\n",
              "      <td id=\"T_85887_row15_col4\" class=\"data row15 col4\" >0.007901</td>\n",
              "      <td id=\"T_85887_row15_col5\" class=\"data row15 col5\" >-0.053041</td>\n",
              "      <td id=\"T_85887_row15_col6\" class=\"data row15 col6\" >0.045694</td>\n",
              "      <td id=\"T_85887_row15_col7\" class=\"data row15 col7\" >0.040675</td>\n",
              "      <td id=\"T_85887_row15_col8\" class=\"data row15 col8\" >0.035489</td>\n",
              "      <td id=\"T_85887_row15_col9\" class=\"data row15 col9\" >0.031284</td>\n",
              "      <td id=\"T_85887_row15_col10\" class=\"data row15 col10\" >0.048965</td>\n",
              "      <td id=\"T_85887_row15_col11\" class=\"data row15 col11\" >0.043684</td>\n",
              "      <td id=\"T_85887_row15_col12\" class=\"data row15 col12\" >0.039190</td>\n",
              "      <td id=\"T_85887_row15_col13\" class=\"data row15 col13\" >0.034688</td>\n",
              "      <td id=\"T_85887_row15_col14\" class=\"data row15 col14\" >0.040260</td>\n",
              "      <td id=\"T_85887_row15_col15\" class=\"data row15 col15\" >1.000000</td>\n",
              "      <td id=\"T_85887_row15_col16\" class=\"data row15 col16\" >0.017065</td>\n",
              "      <td id=\"T_85887_row15_col17\" class=\"data row15 col17\" >0.024889</td>\n",
              "      <td id=\"T_85887_row15_col18\" class=\"data row15 col18\" >-0.036173</td>\n",
              "    </tr>\n",
              "    <tr>\n",
              "      <th id=\"T_85887_level0_row16\" class=\"row_heading level0 row16\" >VehBCost</th>\n",
              "      <td id=\"T_85887_row16_col0\" class=\"data row16 col0\" >-0.011873</td>\n",
              "      <td id=\"T_85887_row16_col1\" class=\"data row16 col1\" >-0.099911</td>\n",
              "      <td id=\"T_85887_row16_col2\" class=\"data row16 col2\" >0.349965</td>\n",
              "      <td id=\"T_85887_row16_col3\" class=\"data row16 col3\" >-0.312329</td>\n",
              "      <td id=\"T_85887_row16_col4\" class=\"data row16 col4\" >-0.162826</td>\n",
              "      <td id=\"T_85887_row16_col5\" class=\"data row16 col5\" >-0.062008</td>\n",
              "      <td id=\"T_85887_row16_col6\" class=\"data row16 col6\" >0.789840</td>\n",
              "      <td id=\"T_85887_row16_col7\" class=\"data row16 col7\" >0.781516</td>\n",
              "      <td id=\"T_85887_row16_col8\" class=\"data row16 col8\" >0.746126</td>\n",
              "      <td id=\"T_85887_row16_col9\" class=\"data row16 col9\" >0.744966</td>\n",
              "      <td id=\"T_85887_row16_col10\" class=\"data row16 col10\" >0.778738</td>\n",
              "      <td id=\"T_85887_row16_col11\" class=\"data row16 col11\" >0.775100</td>\n",
              "      <td id=\"T_85887_row16_col12\" class=\"data row16 col12\" >0.756816</td>\n",
              "      <td id=\"T_85887_row16_col13\" class=\"data row16 col13\" >0.756662</td>\n",
              "      <td id=\"T_85887_row16_col14\" class=\"data row16 col14\" >0.046215</td>\n",
              "      <td id=\"T_85887_row16_col15\" class=\"data row16 col15\" >0.017065</td>\n",
              "      <td id=\"T_85887_row16_col16\" class=\"data row16 col16\" >1.000000</td>\n",
              "      <td id=\"T_85887_row16_col17\" class=\"data row16 col17\" >0.034120</td>\n",
              "      <td id=\"T_85887_row16_col18\" class=\"data row16 col18\" >-0.033210</td>\n",
              "    </tr>\n",
              "    <tr>\n",
              "      <th id=\"T_85887_level0_row17\" class=\"row_heading level0 row17\" >IsOnlineSale</th>\n",
              "      <td id=\"T_85887_row17_col0\" class=\"data row17 col0\" >-0.048851</td>\n",
              "      <td id=\"T_85887_row17_col1\" class=\"data row17 col1\" >-0.003697</td>\n",
              "      <td id=\"T_85887_row17_col2\" class=\"data row17 col2\" >0.057380</td>\n",
              "      <td id=\"T_85887_row17_col3\" class=\"data row17 col3\" >-0.024771</td>\n",
              "      <td id=\"T_85887_row17_col4\" class=\"data row17 col4\" >-0.006747</td>\n",
              "      <td id=\"T_85887_row17_col5\" class=\"data row17 col5\" >0.029556</td>\n",
              "      <td id=\"T_85887_row17_col6\" class=\"data row17 col6\" >0.038818</td>\n",
              "      <td id=\"T_85887_row17_col7\" class=\"data row17 col7\" >0.038667</td>\n",
              "      <td id=\"T_85887_row17_col8\" class=\"data row17 col8\" >0.080627</td>\n",
              "      <td id=\"T_85887_row17_col9\" class=\"data row17 col9\" >0.077670</td>\n",
              "      <td id=\"T_85887_row17_col10\" class=\"data row17 col10\" >0.039876</td>\n",
              "      <td id=\"T_85887_row17_col11\" class=\"data row17 col11\" >0.040240</td>\n",
              "      <td id=\"T_85887_row17_col12\" class=\"data row17 col12\" >0.079535</td>\n",
              "      <td id=\"T_85887_row17_col13\" class=\"data row17 col13\" >0.076587</td>\n",
              "      <td id=\"T_85887_row17_col14\" class=\"data row17 col14\" >-0.142444</td>\n",
              "      <td id=\"T_85887_row17_col15\" class=\"data row17 col15\" >0.024889</td>\n",
              "      <td id=\"T_85887_row17_col16\" class=\"data row17 col16\" >0.034120</td>\n",
              "      <td id=\"T_85887_row17_col17\" class=\"data row17 col17\" >1.000000</td>\n",
              "      <td id=\"T_85887_row17_col18\" class=\"data row17 col18\" >0.003837</td>\n",
              "    </tr>\n",
              "    <tr>\n",
              "      <th id=\"T_85887_level0_row18\" class=\"row_heading level0 row18\" >WarrantyCost</th>\n",
              "      <td id=\"T_85887_row18_col0\" class=\"data row18 col0\" >-0.023478</td>\n",
              "      <td id=\"T_85887_row18_col1\" class=\"data row18 col1\" >0.052319</td>\n",
              "      <td id=\"T_85887_row18_col2\" class=\"data row18 col2\" >-0.268696</td>\n",
              "      <td id=\"T_85887_row18_col3\" class=\"data row18 col3\" >0.259310</td>\n",
              "      <td id=\"T_85887_row18_col4\" class=\"data row18 col4\" >-0.132798</td>\n",
              "      <td id=\"T_85887_row18_col5\" class=\"data row18 col5\" >0.411718</td>\n",
              "      <td id=\"T_85887_row18_col6\" class=\"data row18 col6\" >-0.050417</td>\n",
              "      <td id=\"T_85887_row18_col7\" class=\"data row18 col7\" >-0.020644</td>\n",
              "      <td id=\"T_85887_row18_col8\" class=\"data row18 col8\" >-0.053444</td>\n",
              "      <td id=\"T_85887_row18_col9\" class=\"data row18 col9\" >-0.026933</td>\n",
              "      <td id=\"T_85887_row18_col10\" class=\"data row18 col10\" >-0.056798</td>\n",
              "      <td id=\"T_85887_row18_col11\" class=\"data row18 col11\" >-0.028131</td>\n",
              "      <td id=\"T_85887_row18_col12\" class=\"data row18 col12\" >-0.058025</td>\n",
              "      <td id=\"T_85887_row18_col13\" class=\"data row18 col13\" >-0.031683</td>\n",
              "      <td id=\"T_85887_row18_col14\" class=\"data row18 col14\" >-0.086201</td>\n",
              "      <td id=\"T_85887_row18_col15\" class=\"data row18 col15\" >-0.036173</td>\n",
              "      <td id=\"T_85887_row18_col16\" class=\"data row18 col16\" >-0.033210</td>\n",
              "      <td id=\"T_85887_row18_col17\" class=\"data row18 col17\" >0.003837</td>\n",
              "      <td id=\"T_85887_row18_col18\" class=\"data row18 col18\" >1.000000</td>\n",
              "    </tr>\n",
              "  </tbody>\n",
              "</table>\n"
            ],
            "text/plain": [
              "<pandas.io.formats.style.Styler at 0x7feef9cf9b50>"
            ]
          },
          "execution_count": 13,
          "metadata": {},
          "output_type": "execute_result"
        }
      ]
    },
    {
      "cell_type": "code",
      "metadata": {
        "id": "n4l7lz-1z0q0",
        "outputId": "8268cf4a-225d-4848-b66b-7fe4ab2f4502"
      },
      "source": [
        "grid = sns.FacetGrid(EDA_df, col=\"IsBadBuy\",hue = 'IsBadBuy' ,height=5)\n",
        "grid.map(sns.distplot,'VehBCost',bins = 30);\n",
        "grid.fig.suptitle('cost paid for the vehicle vs IsBadBuy')\n",
        "grid.fig.set_size_inches(15,8)\n",
        "plt.show()"
      ],
      "execution_count": null,
      "outputs": [
        {
          "name": "stderr",
          "output_type": "stream",
          "text": [
            "/opt/conda/lib/python3.9/site-packages/seaborn/distributions.py:2619: FutureWarning: `distplot` is a deprecated function and will be removed in a future version. Please adapt your code to use either `displot` (a figure-level function with similar flexibility) or `histplot` (an axes-level function for histograms).\n",
            "  warnings.warn(msg, FutureWarning)\n",
            "/opt/conda/lib/python3.9/site-packages/seaborn/distributions.py:2619: FutureWarning: `distplot` is a deprecated function and will be removed in a future version. Please adapt your code to use either `displot` (a figure-level function with similar flexibility) or `histplot` (an axes-level function for histograms).\n",
            "  warnings.warn(msg, FutureWarning)\n"
          ]
        },
        {
          "data": {
            "image/png": "[encoded data removed]",
            "text/plain": [
              "<Figure size 1080x576 with 2 Axes>"
            ]
          },
          "metadata": {
            "needs_background": "light"
          },
          "output_type": "display_data"
        }
      ]
    },
    {
      "cell_type": "code",
      "metadata": {
        "id": "9GOMCx9Wz0q1",
        "outputId": "c7ce063d-1953-4687-8702-9c12e2385aa2"
      },
      "source": [
        "EDA_df.groupby('VehicleAge').agg([np.mean,np.size])['IsBadBuy'].query('size > 100')['mean'].plot(title = \"VehicleAge Vs IsBadBuy\")\n",
        "plt.show()"
      ],
      "execution_count": null,
      "outputs": [
        {
          "data": {
            "image/png": "[encoded data removed]",
            "text/plain": [
              "<Figure size 432x288 with 1 Axes>"
            ]
          },
          "metadata": {
            "needs_background": "light"
          },
          "output_type": "display_data"
        }
      ]
    },
    {
      "cell_type": "code",
      "metadata": {
        "id": "ZaqJQwEJz0q1",
        "outputId": "d68b1685-202d-4f5a-b2f0-f56b287e1e89"
      },
      "source": [
        "EDA_df.groupby(\"VehYear\").mean()[\"IsBadBuy\"].plot.bar(title = \"VehYear Vs IsBadBuy\")\n",
        "plt.show()"
      ],
      "execution_count": null,
      "outputs": [
        {
          "data": {
            "image/png": "[encoded data removed]",
            "text/plain": [
              "<Figure size 432x288 with 1 Axes>"
            ]
          },
          "metadata": {
            "needs_background": "light"
          },
          "output_type": "display_data"
        }
      ]
    },
    {
      "cell_type": "markdown",
      "metadata": {
        "id": "iCsnKRrsz0q2"
      },
      "source": [
        "# Preprossesing and feature Engineering\n",
        "\n",
        "## Date\n",
        "\n",
        "We will split the date column into separate columns and change data type from object to Numerical"
      ]
    },
    {
      "cell_type": "code",
      "metadata": {
        "id": "_dPYQZlVz0q2"
      },
      "source": [
        "def split_date(df):\n",
        "    df['Date'] = pd.to_datetime(df['PurchDate'])\n",
        "    df['Year'] = df.Date.dt.year\n",
        "    df['Month'] = df.Date.dt.month\n",
        "    df['Day'] = df.Date.dt.day\n",
        "    df['WeekOfYear'] = df.Date.dt.isocalendar().week"
      ],
      "execution_count": null,
      "outputs": []
    },
    {
      "cell_type": "code",
      "metadata": {
        "id": "-M10QTUfz0q2"
      },
      "source": [
        "split_date(train)\n",
        "split_date(test)"
      ],
      "execution_count": null,
      "outputs": []
    },
    {
      "cell_type": "code",
      "metadata": {
        "id": "2zIGRaIzz0q2"
      },
      "source": [
        "train.info()"
      ],
      "execution_count": null,
      "outputs": []
    },
    {
      "cell_type": "code",
      "metadata": {
        "id": "wo7zuWOfz0q3"
      },
      "source": [
        "train.sample(10)"
      ],
      "execution_count": null,
      "outputs": []
    },
    {
      "cell_type": "code",
      "metadata": {
        "id": "3DRzqZ1_z0q3",
        "outputId": "1721d30e-b677-464e-deb7-177d675d3080"
      },
      "source": [
        "print('The unique number of data is Model column are: ',len(train['Model'].unique()))\n",
        "print('The unique number of data is Trim column are: ',len(train['Trim'].unique()))\n",
        "print('The unique number of data is SubModel column are: ',len(train['SubModel'].unique()))\n",
        "\n"
      ],
      "execution_count": null,
      "outputs": [
        {
          "name": "stdout",
          "output_type": "stream",
          "text": [
            "The unique number of data is Model column are:  1063\n",
            "The unique number of data is Trim column are:  135\n",
            "The unique number of data is SubModel column are:  864\n"
          ]
        }
      ]
    },
    {
      "cell_type": "markdown",
      "metadata": {
        "id": "sbTdh08dz0q3"
      },
      "source": [
        "The following columns should be dropped:\n",
        "1. Model\n",
        "2. Trim\n",
        "3. SubModel \n",
        "as these have a lot of unique values and the model will not be able to make sense with the number data points provided.7\n",
        "\n",
        "4. PurchDate and VehYear are irrelevant as we already have VehicalAge\n",
        "5. VNZIIP1 and VNST as data should not affect the outcome logically\n",
        "6. BYRNO and RefID are unique identifiers"
      ]
    },
    {
      "cell_type": "code",
      "metadata": {
        "id": "CIcjXLDoz0q3"
      },
      "source": [
        "input_cols = ['Auction', 'VehicleAge', 'Make', \n",
        "              'WarrantyCost', 'Year', 'Month', 'Day', 'WeekOfYear',\n",
        "              'VehBCost', 'IsOnlineSale', 'Color', 'Transmission', \n",
        "              'WheelTypeID', 'VehOdo', 'Nationality', 'Size',  'TopThreeAmericanName', 'MMRAcquisitionAuctionAveragePrice',\n",
        "              'MMRAcquisitonRetailCleanPrice', 'MMRCurrentAuctionAveragePrice', 'MMRCurrentAuctionCleanPrice', 'MMRCurrentRetailAveragePrice',  'MMRCurrentRetailCleanPrice', \n",
        "              'MMRAcquisitionAuctionCleanPrice', 'MMRAcquisitionRetailAveragePrice']\n",
        "target_col = 'IsBadBuy'"
      ],
      "execution_count": null,
      "outputs": []
    },
    {
      "cell_type": "code",
      "metadata": {
        "id": "uhbPzmCXz0q4"
      },
      "source": [
        "inputs = train[input_cols].copy()\n",
        "targets = train[target_col].copy()"
      ],
      "execution_count": null,
      "outputs": []
    },
    {
      "cell_type": "code",
      "metadata": {
        "id": "VupQjssez0q4",
        "outputId": "d19cdb49-f741-48ea-ee2c-41c67c80237d"
      },
      "source": [
        "inputs.info()"
      ],
      "execution_count": null,
      "outputs": [
        {
          "name": "stdout",
          "output_type": "stream",
          "text": [
            "<class 'pandas.core.frame.DataFrame'>\n",
            "RangeIndex: 72983 entries, 0 to 72982\n",
            "Data columns (total 25 columns):\n",
            " #   Column                             Non-Null Count  Dtype  \n",
            "---  ------                             --------------  -----  \n",
            " 0   Auction                            72983 non-null  object \n",
            " 1   VehicleAge                         72983 non-null  int64  \n",
            " 2   Make                               72983 non-null  object \n",
            " 3   WarrantyCost                       72983 non-null  int64  \n",
            " 4   Year                               72983 non-null  int64  \n",
            " 5   Month                              72983 non-null  int64  \n",
            " 6   Day                                72983 non-null  int64  \n",
            " 7   WeekOfYear                         72983 non-null  UInt32 \n",
            " 8   VehBCost                           72983 non-null  float64\n",
            " 9   IsOnlineSale                       72983 non-null  int64  \n",
            " 10  Color                              72975 non-null  object \n",
            " 11  Transmission                       72974 non-null  object \n",
            " 12  WheelTypeID                        69814 non-null  float64\n",
            " 13  VehOdo                             72983 non-null  int64  \n",
            " 14  Nationality                        72978 non-null  object \n",
            " 15  Size                               72978 non-null  object \n",
            " 16  TopThreeAmericanName               72978 non-null  object \n",
            " 17  MMRAcquisitionAuctionAveragePrice  72965 non-null  float64\n",
            " 18  MMRAcquisitonRetailCleanPrice      72965 non-null  float64\n",
            " 19  MMRCurrentAuctionAveragePrice      72668 non-null  float64\n",
            " 20  MMRCurrentAuctionCleanPrice        72668 non-null  float64\n",
            " 21  MMRCurrentRetailAveragePrice       72668 non-null  float64\n",
            " 22  MMRCurrentRetailCleanPrice         72668 non-null  float64\n",
            " 23  MMRAcquisitionAuctionCleanPrice    72965 non-null  float64\n",
            " 24  MMRAcquisitionRetailAveragePrice   72965 non-null  float64\n",
            "dtypes: UInt32(1), float64(10), int64(7), object(7)\n",
            "memory usage: 13.7+ MB\n"
          ]
        }
      ]
    },
    {
      "cell_type": "code",
      "metadata": {
        "id": "rLYAmlRyz0q5"
      },
      "source": [
        "test_inputs = test[input_cols].copy()"
      ],
      "execution_count": null,
      "outputs": []
    },
    {
      "cell_type": "code",
      "metadata": {
        "id": "6x2bCFgGz0q5"
      },
      "source": [
        "numeric_cols = ['VehicleAge', \n",
        "              'WarrantyCost', 'Year', 'Month', 'Day', 'WeekOfYear',\n",
        "              'VehBCost', 'IsOnlineSale',\n",
        "              'WheelTypeID', 'VehOdo', 'MMRAcquisitionAuctionAveragePrice',\n",
        "              'MMRAcquisitonRetailCleanPrice', 'MMRCurrentAuctionAveragePrice', 'MMRCurrentAuctionCleanPrice', 'MMRCurrentRetailAveragePrice',  'MMRCurrentRetailCleanPrice',\n",
        "              'MMRAcquisitionAuctionCleanPrice', 'MMRAcquisitionRetailAveragePrice']\n",
        "\n",
        "categorical_cols = ['Auction', 'Make', 'Color', 'Transmission', \n",
        "              'Nationality', 'Size',  'TopThreeAmericanName']"
      ],
      "execution_count": null,
      "outputs": []
    },
    {
      "cell_type": "code",
      "metadata": {
        "id": "H0aJS-zwz0q5",
        "outputId": "25c67938-0aa6-4b5e-e7e9-49e9060b57e9"
      },
      "source": [
        "len(numeric_cols) + len(categorical_cols)"
      ],
      "execution_count": null,
      "outputs": [
        {
          "data": {
            "text/plain": [
              "25"
            ]
          },
          "execution_count": 34,
          "metadata": {},
          "output_type": "execute_result"
        }
      ]
    },
    {
      "cell_type": "code",
      "metadata": {
        "id": "0AhIl9Naz0q5",
        "outputId": "cb4746b1-9421-4eb5-f832-e74402a5cc9f"
      },
      "source": [
        "# Impute Missing data\n",
        "\n",
        "inputs[numeric_cols].isna().sum()"
      ],
      "execution_count": null,
      "outputs": [
        {
          "data": {
            "text/plain": [
              "VehicleAge                           0\n",
              "WarrantyCost                         0\n",
              "Year                                 0\n",
              "Month                                0\n",
              "Day                                  0\n",
              "WeekOfYear                           0\n",
              "VehBCost                             0\n",
              "IsOnlineSale                         0\n",
              "WheelTypeID                          0\n",
              "VehOdo                               0\n",
              "MMRAcquisitionAuctionAveragePrice    0\n",
              "MMRAcquisitonRetailCleanPrice        0\n",
              "MMRCurrentAuctionAveragePrice        0\n",
              "MMRCurrentAuctionCleanPrice          0\n",
              "MMRCurrentRetailAveragePrice         0\n",
              "MMRCurrentRetailCleanPrice           0\n",
              "MMRAcquisitionAuctionCleanPrice      0\n",
              "MMRAcquisitionRetailAveragePrice     0\n",
              "dtype: int64"
            ]
          },
          "execution_count": 49,
          "metadata": {},
          "output_type": "execute_result"
        }
      ]
    },
    {
      "cell_type": "code",
      "metadata": {
        "id": "VEZSb4_Mz0q5",
        "outputId": "236f6695-1bd7-4cd4-fb0e-30ffc9da9afe"
      },
      "source": [
        "test_inputs[numeric_cols].isna().sum()"
      ],
      "execution_count": null,
      "outputs": [
        {
          "data": {
            "text/plain": [
              "VehicleAge                           0\n",
              "WarrantyCost                         0\n",
              "Year                                 0\n",
              "Month                                0\n",
              "Day                                  0\n",
              "WeekOfYear                           0\n",
              "VehBCost                             0\n",
              "IsOnlineSale                         0\n",
              "WheelTypeID                          0\n",
              "VehOdo                               0\n",
              "MMRAcquisitionAuctionAveragePrice    0\n",
              "MMRAcquisitonRetailCleanPrice        0\n",
              "MMRCurrentAuctionAveragePrice        0\n",
              "MMRCurrentAuctionCleanPrice          0\n",
              "MMRCurrentRetailAveragePrice         0\n",
              "MMRCurrentRetailCleanPrice           0\n",
              "MMRAcquisitionAuctionCleanPrice      0\n",
              "MMRAcquisitionRetailAveragePrice     0\n",
              "dtype: int64"
            ]
          },
          "execution_count": 48,
          "metadata": {},
          "output_type": "execute_result"
        }
      ]
    },
    {
      "cell_type": "code",
      "metadata": {
        "id": "LRSDGRchz0q6",
        "outputId": "09140432-7284-4d83-efb8-42d41d714865"
      },
      "source": [
        "inputs.loc[inputs['WheelTypeID'] == 0]"
      ],
      "execution_count": null,
      "outputs": [
        {
          "data": {
            "text/html": [
              "<div>\n",
              "<style scoped>\n",
              "    .dataframe tbody tr th:only-of-type {\n",
              "        vertical-align: middle;\n",
              "    }\n",
              "\n",
              "    .dataframe tbody tr th {\n",
              "        vertical-align: top;\n",
              "    }\n",
              "\n",
              "    .dataframe thead th {\n",
              "        text-align: right;\n",
              "    }\n",
              "</style>\n",
              "<table border=\"1\" class=\"dataframe\">\n",
              "  <thead>\n",
              "    <tr style=\"text-align: right;\">\n",
              "      <th></th>\n",
              "      <th>Auction</th>\n",
              "      <th>VehicleAge</th>\n",
              "      <th>Make</th>\n",
              "      <th>WarrantyCost</th>\n",
              "      <th>Year</th>\n",
              "      <th>Month</th>\n",
              "      <th>Day</th>\n",
              "      <th>WeekOfYear</th>\n",
              "      <th>VehBCost</th>\n",
              "      <th>IsOnlineSale</th>\n",
              "      <th>Color</th>\n",
              "      <th>Transmission</th>\n",
              "      <th>WheelTypeID</th>\n",
              "      <th>VehOdo</th>\n",
              "      <th>Nationality</th>\n",
              "      <th>Size</th>\n",
              "      <th>TopThreeAmericanName</th>\n",
              "      <th>MMRAcquisitionAuctionAveragePrice</th>\n",
              "      <th>MMRAcquisitonRetailCleanPrice</th>\n",
              "      <th>MMRCurrentAuctionAveragePrice</th>\n",
              "      <th>MMRCurrentAuctionCleanPrice</th>\n",
              "      <th>MMRCurrentRetailAveragePrice</th>\n",
              "      <th>MMRCurrentRetailCleanPrice</th>\n",
              "      <th>MMRAcquisitionAuctionCleanPrice</th>\n",
              "      <th>MMRAcquisitionRetailAveragePrice</th>\n",
              "    </tr>\n",
              "  </thead>\n",
              "  <tbody>\n",
              "    <tr>\n",
              "      <th>39</th>\n",
              "      <td>ADESA</td>\n",
              "      <td>5</td>\n",
              "      <td>FORD</td>\n",
              "      <td>728</td>\n",
              "      <td>2010</td>\n",
              "      <td>1</td>\n",
              "      <td>4</td>\n",
              "      <td>1</td>\n",
              "      <td>8500.0</td>\n",
              "      <td>0</td>\n",
              "      <td>GOLD</td>\n",
              "      <td>AUTO</td>\n",
              "      <td>0.0</td>\n",
              "      <td>65078</td>\n",
              "      <td>AMERICAN</td>\n",
              "      <td>SPORTS</td>\n",
              "      <td>FORD</td>\n",
              "      <td>7669.0</td>\n",
              "      <td>13224.0</td>\n",
              "      <td>7669.0</td>\n",
              "      <td>8897.0</td>\n",
              "      <td>11047.0</td>\n",
              "      <td>13224.0</td>\n",
              "      <td>8897.0</td>\n",
              "      <td>11047.0</td>\n",
              "    </tr>\n",
              "    <tr>\n",
              "      <th>41</th>\n",
              "      <td>ADESA</td>\n",
              "      <td>5</td>\n",
              "      <td>NISSAN</td>\n",
              "      <td>594</td>\n",
              "      <td>2010</td>\n",
              "      <td>1</td>\n",
              "      <td>4</td>\n",
              "      <td>1</td>\n",
              "      <td>5200.0</td>\n",
              "      <td>0</td>\n",
              "      <td>SILVER</td>\n",
              "      <td>AUTO</td>\n",
              "      <td>0.0</td>\n",
              "      <td>86889</td>\n",
              "      <td>TOP LINE ASIAN</td>\n",
              "      <td>COMPACT</td>\n",
              "      <td>OTHER</td>\n",
              "      <td>4522.0</td>\n",
              "      <td>9156.0</td>\n",
              "      <td>4522.0</td>\n",
              "      <td>5544.0</td>\n",
              "      <td>8115.0</td>\n",
              "      <td>9156.0</td>\n",
              "      <td>5544.0</td>\n",
              "      <td>8115.0</td>\n",
              "    </tr>\n",
              "    <tr>\n",
              "      <th>45</th>\n",
              "      <td>ADESA</td>\n",
              "      <td>6</td>\n",
              "      <td>NISSAN</td>\n",
              "      <td>569</td>\n",
              "      <td>2010</td>\n",
              "      <td>1</td>\n",
              "      <td>11</td>\n",
              "      <td>2</td>\n",
              "      <td>7100.0</td>\n",
              "      <td>0</td>\n",
              "      <td>BLUE</td>\n",
              "      <td>AUTO</td>\n",
              "      <td>0.0</td>\n",
              "      <td>72191</td>\n",
              "      <td>TOP LINE ASIAN</td>\n",
              "      <td>MEDIUM SUV</td>\n",
              "      <td>OTHER</td>\n",
              "      <td>7033.0</td>\n",
              "      <td>12432.0</td>\n",
              "      <td>7033.0</td>\n",
              "      <td>8356.0</td>\n",
              "      <td>10916.0</td>\n",
              "      <td>12432.0</td>\n",
              "      <td>8356.0</td>\n",
              "      <td>10916.0</td>\n",
              "    </tr>\n",
              "    <tr>\n",
              "      <th>47</th>\n",
              "      <td>ADESA</td>\n",
              "      <td>8</td>\n",
              "      <td>TOYOTA</td>\n",
              "      <td>869</td>\n",
              "      <td>2010</td>\n",
              "      <td>1</td>\n",
              "      <td>11</td>\n",
              "      <td>2</td>\n",
              "      <td>3900.0</td>\n",
              "      <td>0</td>\n",
              "      <td>SILVER</td>\n",
              "      <td>AUTO</td>\n",
              "      <td>0.0</td>\n",
              "      <td>79576</td>\n",
              "      <td>TOP LINE ASIAN</td>\n",
              "      <td>COMPACT</td>\n",
              "      <td>OTHER</td>\n",
              "      <td>2492.0</td>\n",
              "      <td>7088.0</td>\n",
              "      <td>2492.0</td>\n",
              "      <td>3290.0</td>\n",
              "      <td>5516.0</td>\n",
              "      <td>7088.0</td>\n",
              "      <td>3290.0</td>\n",
              "      <td>5516.0</td>\n",
              "    </tr>\n",
              "    <tr>\n",
              "      <th>49</th>\n",
              "      <td>ADESA</td>\n",
              "      <td>4</td>\n",
              "      <td>PONTIAC</td>\n",
              "      <td>1003</td>\n",
              "      <td>2010</td>\n",
              "      <td>1</td>\n",
              "      <td>11</td>\n",
              "      <td>2</td>\n",
              "      <td>7500.0</td>\n",
              "      <td>0</td>\n",
              "      <td>RED</td>\n",
              "      <td>AUTO</td>\n",
              "      <td>0.0</td>\n",
              "      <td>50227</td>\n",
              "      <td>AMERICAN</td>\n",
              "      <td>MEDIUM</td>\n",
              "      <td>GM</td>\n",
              "      <td>6630.0</td>\n",
              "      <td>12253.0</td>\n",
              "      <td>6630.0</td>\n",
              "      <td>7933.0</td>\n",
              "      <td>10660.0</td>\n",
              "      <td>12253.0</td>\n",
              "      <td>7933.0</td>\n",
              "      <td>10660.0</td>\n",
              "    </tr>\n",
              "    <tr>\n",
              "      <th>...</th>\n",
              "      <td>...</td>\n",
              "      <td>...</td>\n",
              "      <td>...</td>\n",
              "      <td>...</td>\n",
              "      <td>...</td>\n",
              "      <td>...</td>\n",
              "      <td>...</td>\n",
              "      <td>...</td>\n",
              "      <td>...</td>\n",
              "      <td>...</td>\n",
              "      <td>...</td>\n",
              "      <td>...</td>\n",
              "      <td>...</td>\n",
              "      <td>...</td>\n",
              "      <td>...</td>\n",
              "      <td>...</td>\n",
              "      <td>...</td>\n",
              "      <td>...</td>\n",
              "      <td>...</td>\n",
              "      <td>...</td>\n",
              "      <td>...</td>\n",
              "      <td>...</td>\n",
              "      <td>...</td>\n",
              "      <td>...</td>\n",
              "      <td>...</td>\n",
              "    </tr>\n",
              "    <tr>\n",
              "      <th>72915</th>\n",
              "      <td>ADESA</td>\n",
              "      <td>2</td>\n",
              "      <td>CHRYSLER</td>\n",
              "      <td>1020</td>\n",
              "      <td>2009</td>\n",
              "      <td>10</td>\n",
              "      <td>7</td>\n",
              "      <td>41</td>\n",
              "      <td>7300.0</td>\n",
              "      <td>0</td>\n",
              "      <td>RED</td>\n",
              "      <td>AUTO</td>\n",
              "      <td>0.0</td>\n",
              "      <td>68426</td>\n",
              "      <td>AMERICAN</td>\n",
              "      <td>MEDIUM</td>\n",
              "      <td>CHRYSLER</td>\n",
              "      <td>8491.0</td>\n",
              "      <td>11489.0</td>\n",
              "      <td>8491.0</td>\n",
              "      <td>10175.0</td>\n",
              "      <td>9670.0</td>\n",
              "      <td>11489.0</td>\n",
              "      <td>10175.0</td>\n",
              "      <td>9670.0</td>\n",
              "    </tr>\n",
              "    <tr>\n",
              "      <th>72924</th>\n",
              "      <td>ADESA</td>\n",
              "      <td>3</td>\n",
              "      <td>SUZUKI</td>\n",
              "      <td>505</td>\n",
              "      <td>2009</td>\n",
              "      <td>10</td>\n",
              "      <td>7</td>\n",
              "      <td>41</td>\n",
              "      <td>6000.0</td>\n",
              "      <td>0</td>\n",
              "      <td>RED</td>\n",
              "      <td>AUTO</td>\n",
              "      <td>0.0</td>\n",
              "      <td>53132</td>\n",
              "      <td>OTHER ASIAN</td>\n",
              "      <td>COMPACT</td>\n",
              "      <td>OTHER</td>\n",
              "      <td>4165.0</td>\n",
              "      <td>6146.0</td>\n",
              "      <td>4165.0</td>\n",
              "      <td>5228.0</td>\n",
              "      <td>4998.0</td>\n",
              "      <td>6146.0</td>\n",
              "      <td>5228.0</td>\n",
              "      <td>4998.0</td>\n",
              "    </tr>\n",
              "    <tr>\n",
              "      <th>72933</th>\n",
              "      <td>ADESA</td>\n",
              "      <td>7</td>\n",
              "      <td>DODGE</td>\n",
              "      <td>2063</td>\n",
              "      <td>2009</td>\n",
              "      <td>10</td>\n",
              "      <td>14</td>\n",
              "      <td>42</td>\n",
              "      <td>3400.0</td>\n",
              "      <td>0</td>\n",
              "      <td>WHITE</td>\n",
              "      <td>AUTO</td>\n",
              "      <td>0.0</td>\n",
              "      <td>81794</td>\n",
              "      <td>AMERICAN</td>\n",
              "      <td>VAN</td>\n",
              "      <td>CHRYSLER</td>\n",
              "      <td>3604.0</td>\n",
              "      <td>6054.0</td>\n",
              "      <td>2818.0</td>\n",
              "      <td>3874.0</td>\n",
              "      <td>3543.0</td>\n",
              "      <td>4684.0</td>\n",
              "      <td>5143.0</td>\n",
              "      <td>4392.0</td>\n",
              "    </tr>\n",
              "    <tr>\n",
              "      <th>72959</th>\n",
              "      <td>ADESA</td>\n",
              "      <td>4</td>\n",
              "      <td>CHEVROLET</td>\n",
              "      <td>1506</td>\n",
              "      <td>2009</td>\n",
              "      <td>11</td>\n",
              "      <td>24</td>\n",
              "      <td>48</td>\n",
              "      <td>6600.0</td>\n",
              "      <td>0</td>\n",
              "      <td>BLACK</td>\n",
              "      <td>AUTO</td>\n",
              "      <td>0.0</td>\n",
              "      <td>74151</td>\n",
              "      <td>AMERICAN</td>\n",
              "      <td>MEDIUM SUV</td>\n",
              "      <td>GM</td>\n",
              "      <td>7165.0</td>\n",
              "      <td>9958.0</td>\n",
              "      <td>7216.0</td>\n",
              "      <td>8937.0</td>\n",
              "      <td>8293.0</td>\n",
              "      <td>10152.0</td>\n",
              "      <td>8757.0</td>\n",
              "      <td>8238.0</td>\n",
              "    </tr>\n",
              "    <tr>\n",
              "      <th>72979</th>\n",
              "      <td>ADESA</td>\n",
              "      <td>2</td>\n",
              "      <td>CHEVROLET</td>\n",
              "      <td>1038</td>\n",
              "      <td>2009</td>\n",
              "      <td>12</td>\n",
              "      <td>2</td>\n",
              "      <td>49</td>\n",
              "      <td>6200.0</td>\n",
              "      <td>0</td>\n",
              "      <td>SILVER</td>\n",
              "      <td>AUTO</td>\n",
              "      <td>0.0</td>\n",
              "      <td>71759</td>\n",
              "      <td>AMERICAN</td>\n",
              "      <td>MEDIUM</td>\n",
              "      <td>GM</td>\n",
              "      <td>6418.0</td>\n",
              "      <td>8411.0</td>\n",
              "      <td>6785.0</td>\n",
              "      <td>8132.0</td>\n",
              "      <td>10151.0</td>\n",
              "      <td>11652.0</td>\n",
              "      <td>7325.0</td>\n",
              "      <td>7431.0</td>\n",
              "    </tr>\n",
              "  </tbody>\n",
              "</table>\n",
              "<p>3174 rows × 25 columns</p>\n",
              "</div>"
            ],
            "text/plain": [
              "      Auction  VehicleAge       Make  WarrantyCost  Year  Month  Day  \\\n",
              "39      ADESA           5       FORD           728  2010      1    4   \n",
              "41      ADESA           5     NISSAN           594  2010      1    4   \n",
              "45      ADESA           6     NISSAN           569  2010      1   11   \n",
              "47      ADESA           8     TOYOTA           869  2010      1   11   \n",
              "49      ADESA           4    PONTIAC          1003  2010      1   11   \n",
              "...       ...         ...        ...           ...   ...    ...  ...   \n",
              "72915   ADESA           2   CHRYSLER          1020  2009     10    7   \n",
              "72924   ADESA           3     SUZUKI           505  2009     10    7   \n",
              "72933   ADESA           7      DODGE          2063  2009     10   14   \n",
              "72959   ADESA           4  CHEVROLET          1506  2009     11   24   \n",
              "72979   ADESA           2  CHEVROLET          1038  2009     12    2   \n",
              "\n",
              "       WeekOfYear  VehBCost  IsOnlineSale   Color Transmission  WheelTypeID  \\\n",
              "39              1    8500.0             0    GOLD         AUTO          0.0   \n",
              "41              1    5200.0             0  SILVER         AUTO          0.0   \n",
              "45              2    7100.0             0    BLUE         AUTO          0.0   \n",
              "47              2    3900.0             0  SILVER         AUTO          0.0   \n",
              "49              2    7500.0             0     RED         AUTO          0.0   \n",
              "...           ...       ...           ...     ...          ...          ...   \n",
              "72915          41    7300.0             0     RED         AUTO          0.0   \n",
              "72924          41    6000.0             0     RED         AUTO          0.0   \n",
              "72933          42    3400.0             0   WHITE         AUTO          0.0   \n",
              "72959          48    6600.0             0   BLACK         AUTO          0.0   \n",
              "72979          49    6200.0             0  SILVER         AUTO          0.0   \n",
              "\n",
              "       VehOdo     Nationality        Size TopThreeAmericanName  \\\n",
              "39      65078        AMERICAN      SPORTS                 FORD   \n",
              "41      86889  TOP LINE ASIAN     COMPACT                OTHER   \n",
              "45      72191  TOP LINE ASIAN  MEDIUM SUV                OTHER   \n",
              "47      79576  TOP LINE ASIAN     COMPACT                OTHER   \n",
              "49      50227        AMERICAN      MEDIUM                   GM   \n",
              "...       ...             ...         ...                  ...   \n",
              "72915   68426        AMERICAN      MEDIUM             CHRYSLER   \n",
              "72924   53132     OTHER ASIAN     COMPACT                OTHER   \n",
              "72933   81794        AMERICAN         VAN             CHRYSLER   \n",
              "72959   74151        AMERICAN  MEDIUM SUV                   GM   \n",
              "72979   71759        AMERICAN      MEDIUM                   GM   \n",
              "\n",
              "       MMRAcquisitionAuctionAveragePrice  MMRAcquisitonRetailCleanPrice  \\\n",
              "39                                7669.0                        13224.0   \n",
              "41                                4522.0                         9156.0   \n",
              "45                                7033.0                        12432.0   \n",
              "47                                2492.0                         7088.0   \n",
              "49                                6630.0                        12253.0   \n",
              "...                                  ...                            ...   \n",
              "72915                             8491.0                        11489.0   \n",
              "72924                             4165.0                         6146.0   \n",
              "72933                             3604.0                         6054.0   \n",
              "72959                             7165.0                         9958.0   \n",
              "72979                             6418.0                         8411.0   \n",
              "\n",
              "       MMRCurrentAuctionAveragePrice  MMRCurrentAuctionCleanPrice  \\\n",
              "39                            7669.0                       8897.0   \n",
              "41                            4522.0                       5544.0   \n",
              "45                            7033.0                       8356.0   \n",
              "47                            2492.0                       3290.0   \n",
              "49                            6630.0                       7933.0   \n",
              "...                              ...                          ...   \n",
              "72915                         8491.0                      10175.0   \n",
              "72924                         4165.0                       5228.0   \n",
              "72933                         2818.0                       3874.0   \n",
              "72959                         7216.0                       8937.0   \n",
              "72979                         6785.0                       8132.0   \n",
              "\n",
              "       MMRCurrentRetailAveragePrice  MMRCurrentRetailCleanPrice  \\\n",
              "39                          11047.0                     13224.0   \n",
              "41                           8115.0                      9156.0   \n",
              "45                          10916.0                     12432.0   \n",
              "47                           5516.0                      7088.0   \n",
              "49                          10660.0                     12253.0   \n",
              "...                             ...                         ...   \n",
              "72915                        9670.0                     11489.0   \n",
              "72924                        4998.0                      6146.0   \n",
              "72933                        3543.0                      4684.0   \n",
              "72959                        8293.0                     10152.0   \n",
              "72979                       10151.0                     11652.0   \n",
              "\n",
              "       MMRAcquisitionAuctionCleanPrice  MMRAcquisitionRetailAveragePrice  \n",
              "39                              8897.0                           11047.0  \n",
              "41                              5544.0                            8115.0  \n",
              "45                              8356.0                           10916.0  \n",
              "47                              3290.0                            5516.0  \n",
              "49                              7933.0                           10660.0  \n",
              "...                                ...                               ...  \n",
              "72915                          10175.0                            9670.0  \n",
              "72924                           5228.0                            4998.0  \n",
              "72933                           5143.0                            4392.0  \n",
              "72959                           8757.0                            8238.0  \n",
              "72979                           7325.0                            7431.0  \n",
              "\n",
              "[3174 rows x 25 columns]"
            ]
          },
          "execution_count": 41,
          "metadata": {},
          "output_type": "execute_result"
        }
      ]
    },
    {
      "cell_type": "code",
      "metadata": {
        "id": "ANKNVhOYz0q6",
        "outputId": "6e25e8d1-1a05-42b4-98df-a6f5c0e5c249"
      },
      "source": [
        "inputs.loc[inputs['WheelTypeID'].isnull().values]"
      ],
      "execution_count": null,
      "outputs": [
        {
          "data": {
            "text/html": [
              "<div>\n",
              "<style scoped>\n",
              "    .dataframe tbody tr th:only-of-type {\n",
              "        vertical-align: middle;\n",
              "    }\n",
              "\n",
              "    .dataframe tbody tr th {\n",
              "        vertical-align: top;\n",
              "    }\n",
              "\n",
              "    .dataframe thead th {\n",
              "        text-align: right;\n",
              "    }\n",
              "</style>\n",
              "<table border=\"1\" class=\"dataframe\">\n",
              "  <thead>\n",
              "    <tr style=\"text-align: right;\">\n",
              "      <th></th>\n",
              "      <th>Auction</th>\n",
              "      <th>VehicleAge</th>\n",
              "      <th>Make</th>\n",
              "      <th>WarrantyCost</th>\n",
              "      <th>Year</th>\n",
              "      <th>Month</th>\n",
              "      <th>Day</th>\n",
              "      <th>WeekOfYear</th>\n",
              "      <th>VehBCost</th>\n",
              "      <th>IsOnlineSale</th>\n",
              "      <th>Color</th>\n",
              "      <th>Transmission</th>\n",
              "      <th>WheelTypeID</th>\n",
              "      <th>VehOdo</th>\n",
              "      <th>Nationality</th>\n",
              "      <th>Size</th>\n",
              "      <th>TopThreeAmericanName</th>\n",
              "      <th>MMRAcquisitionAuctionAveragePrice</th>\n",
              "      <th>MMRAcquisitonRetailCleanPrice</th>\n",
              "      <th>MMRCurrentAuctionAveragePrice</th>\n",
              "      <th>MMRCurrentAuctionCleanPrice</th>\n",
              "      <th>MMRCurrentRetailAveragePrice</th>\n",
              "      <th>MMRCurrentRetailCleanPrice</th>\n",
              "      <th>MMRAcquisitionAuctionCleanPrice</th>\n",
              "      <th>MMRAcquisitionRetailAveragePrice</th>\n",
              "    </tr>\n",
              "  </thead>\n",
              "  <tbody>\n",
              "  </tbody>\n",
              "</table>\n",
              "</div>"
            ],
            "text/plain": [
              "Empty DataFrame\n",
              "Columns: [Auction, VehicleAge, Make, WarrantyCost, Year, Month, Day, WeekOfYear, VehBCost, IsOnlineSale, Color, Transmission, WheelTypeID, VehOdo, Nationality, Size, TopThreeAmericanName, MMRAcquisitionAuctionAveragePrice, MMRAcquisitonRetailCleanPrice, MMRCurrentAuctionAveragePrice, MMRCurrentAuctionCleanPrice, MMRCurrentRetailAveragePrice, MMRCurrentRetailCleanPrice, MMRAcquisitionAuctionCleanPrice, MMRAcquisitionRetailAveragePrice]\n",
              "Index: []"
            ]
          },
          "execution_count": 42,
          "metadata": {},
          "output_type": "execute_result"
        }
      ]
    },
    {
      "cell_type": "markdown",
      "metadata": {
        "id": "fLJb7vG4z0q6"
      },
      "source": [
        "Since NaN in 'WheelType' is already assigned to 0 in 'WheelTypeID', we can replace all 'Nan' vales with 0"
      ]
    },
    {
      "cell_type": "code",
      "metadata": {
        "id": "64bMFWkLz0q6"
      },
      "source": [
        "inputs['WheelTypeID'] = inputs['WheelTypeID'].fillna(0)\n",
        "test_inputs['WheelTypeID'] = test_inputs['WheelTypeID'].fillna(0)"
      ],
      "execution_count": null,
      "outputs": []
    },
    {
      "cell_type": "markdown",
      "metadata": {
        "id": "o2EKKl_Jz0q6"
      },
      "source": [
        "Since the rest of the values are all numerical values of prices, and the distribution is skewed, it is better to replace the values with median rather than mean"
      ]
    },
    {
      "cell_type": "code",
      "metadata": {
        "id": "e-GwJdCTz0q7"
      },
      "source": [
        "from sklearn.impute import SimpleImputer\n",
        "imputer=SimpleImputer(strategy='mean');\n",
        "imputer.fit(inputs[numeric_cols]);\n",
        "inputs[numeric_cols]=imputer.transform(inputs[numeric_cols]);\n",
        "test_inputs[numeric_cols]=imputer.transform(test_inputs[numeric_cols]);"
      ],
      "execution_count": null,
      "outputs": []
    },
    {
      "cell_type": "code",
      "metadata": {
        "id": "DCPFdy9Cz0q7"
      },
      "source": [
        "# Replaceing Nan with unk so create a separate column while one hot encoding\n",
        "\n",
        "inputs.Transmission.fillna('Trans_unk',inplace=True)\n",
        "inputs.Make.fillna('Make_unk',inplace=True)\n",
        "inputs.Nationality.fillna('Nationality_unk',inplace=True)\n",
        "inputs.Size.fillna('Trans_unk',inplace=True)\n",
        "inputs.TopThreeAmericanName.fillna('TopThreeAmericanName_unk',inplace=True)\n",
        "inputs.Color.fillna('Color_unk',inplace=True)\n",
        "inputs.Auction.fillna('Auction_unk',inplace=True)\n",
        "\n",
        "test_inputs.TopThreeAmericanName.fillna('TopThreeAmericanName_unk',inplace=True)\n",
        "test_inputs.Size.fillna('Size_unk',inplace=True)\n",
        "test_inputs.Make.fillna('Make',inplace=True)\n",
        "test_inputs.Nationality.fillna('Nationality_unk',inplace=True)\n",
        "test_inputs.Transmission.fillna('Trans_unk',inplace=True)\n",
        "test_inputs.Color.fillna('Color_unk',inplace=True)\n",
        "test_inputs.Auction.fillna('Auction_unk',inplace=True)"
      ],
      "execution_count": null,
      "outputs": []
    },
    {
      "cell_type": "markdown",
      "metadata": {
        "id": "WZ1dOA2Pz0q7"
      },
      "source": [
        "## Scale Numerical Columns"
      ]
    },
    {
      "cell_type": "code",
      "metadata": {
        "id": "10kPsOTLz0q7"
      },
      "source": [
        "from sklearn.preprocessing import MinMaxScaler"
      ],
      "execution_count": null,
      "outputs": []
    },
    {
      "cell_type": "code",
      "metadata": {
        "id": "aqStZzVIz0q7"
      },
      "source": [
        "scaler = MinMaxScaler().fit(inputs[numeric_cols])"
      ],
      "execution_count": null,
      "outputs": []
    },
    {
      "cell_type": "code",
      "metadata": {
        "id": "pLuwJo22z0q7"
      },
      "source": [
        "inputs[numeric_cols] = scaler.transform(inputs[numeric_cols])\n",
        "test_inputs[numeric_cols] = scaler.transform(test_inputs[numeric_cols])"
      ],
      "execution_count": null,
      "outputs": []
    },
    {
      "cell_type": "markdown",
      "metadata": {
        "id": "9LOAQe1Nz0q8"
      },
      "source": [
        "## One Hot encoding categorical Columns"
      ]
    },
    {
      "cell_type": "code",
      "metadata": {
        "id": "oEJUY6jEz0q8"
      },
      "source": [
        "from sklearn.preprocessing import OneHotEncoder"
      ],
      "execution_count": null,
      "outputs": []
    },
    {
      "cell_type": "code",
      "metadata": {
        "id": "7GQUMPGuz0q8",
        "outputId": "c97009d0-208f-494a-b4bc-530caa6aa99f"
      },
      "source": [
        "encoder = OneHotEncoder(sparse=False, handle_unknown='ignore').fit(inputs[categorical_cols])\n",
        "encoded_cols = list(encoder.get_feature_names(categorical_cols))"
      ],
      "execution_count": null,
      "outputs": [
        {
          "name": "stderr",
          "output_type": "stream",
          "text": [
            "/opt/conda/lib/python3.9/site-packages/sklearn/utils/deprecation.py:87: FutureWarning: Function get_feature_names is deprecated; get_feature_names is deprecated in 1.0 and will be removed in 1.2. Please use get_feature_names_out instead.\n",
            "  warnings.warn(msg, category=FutureWarning)\n"
          ]
        }
      ]
    },
    {
      "cell_type": "code",
      "metadata": {
        "id": "jLfoBZjaz0q8"
      },
      "source": [
        "inputs[encoded_cols] = encoder.transform(inputs[categorical_cols])\n",
        "test_inputs[encoded_cols] = encoder.transform(test_inputs[categorical_cols])"
      ],
      "execution_count": null,
      "outputs": []
    },
    {
      "cell_type": "code",
      "metadata": {
        "id": "rWPVVtiPz0q8"
      },
      "source": [
        "X = inputs[numeric_cols + encoded_cols]\n",
        "X_test = test_inputs[numeric_cols + encoded_cols]"
      ],
      "execution_count": null,
      "outputs": []
    },
    {
      "cell_type": "code",
      "metadata": {
        "id": "71lNq1-cz0q8",
        "outputId": "ebbc32b4-12b7-4fee-b76c-30f14d398ac2"
      },
      "source": [
        "jovian.commit()"
      ],
      "execution_count": null,
      "outputs": [
        {
          "data": {
            "application/javascript": [
              "window.require && require([\"base/js/namespace\"],function(Jupyter){Jupyter.notebook.save_checkpoint()})"
            ],
            "text/plain": [
              "<IPython.core.display.Javascript object>"
            ]
          },
          "metadata": {},
          "output_type": "display_data"
        },
        {
          "name": "stdout",
          "output_type": "stream",
          "text": [
            "[jovian] Updating notebook \"nimesh-singh-mech/auction-car-ml-project\" on https://jovian.ai\u001b[0m\n",
            "[jovian] Committed successfully! https://jovian.ai/nimesh-singh-mech/auction-car-ml-project\u001b[0m\n"
          ]
        },
        {
          "data": {
            "text/plain": [
              "'https://jovian.ai/nimesh-singh-mech/auction-car-ml-project'"
            ]
          },
          "execution_count": 60,
          "metadata": {},
          "output_type": "execute_result"
        }
      ]
    },
    {
      "cell_type": "markdown",
      "metadata": {
        "id": "TlhL8LDiz0q9"
      },
      "source": [
        "## BaggingClassifier model and spliting into train and validation"
      ]
    },
    {
      "cell_type": "code",
      "metadata": {
        "id": "UPhB5BNKz0q9",
        "outputId": "a34ce13b-5e3c-4811-d131-993c4fbb9aed"
      },
      "source": [
        "X.info()"
      ],
      "execution_count": null,
      "outputs": [
        {
          "name": "stdout",
          "output_type": "stream",
          "text": [
            "<class 'pandas.core.frame.DataFrame'>\n",
            "RangeIndex: 72983 entries, 0 to 72982\n",
            "Data columns (total 98 columns):\n",
            " #   Column                                         Non-Null Count  Dtype  \n",
            "---  ------                                         --------------  -----  \n",
            " 0   VehicleAge                                     72983 non-null  float64\n",
            " 1   WarrantyCost                                   72983 non-null  float64\n",
            " 2   Year                                           72983 non-null  float64\n",
            " 3   Month                                          72983 non-null  float64\n",
            " 4   Day                                            72983 non-null  float64\n",
            " 5   WeekOfYear                                     72983 non-null  float64\n",
            " 6   VehBCost                                       72983 non-null  float64\n",
            " 7   IsOnlineSale                                   72983 non-null  float64\n",
            " 8   WheelTypeID                                    72983 non-null  float64\n",
            " 9   VehOdo                                         72983 non-null  float64\n",
            " 10  MMRAcquisitionAuctionAveragePrice              72983 non-null  float64\n",
            " 11  MMRAcquisitonRetailCleanPrice                  72983 non-null  float64\n",
            " 12  MMRCurrentAuctionAveragePrice                  72983 non-null  float64\n",
            " 13  MMRCurrentAuctionCleanPrice                    72983 non-null  float64\n",
            " 14  MMRCurrentRetailAveragePrice                   72983 non-null  float64\n",
            " 15  MMRCurrentRetailCleanPrice                     72983 non-null  float64\n",
            " 16  MMRAcquisitionAuctionCleanPrice                72983 non-null  float64\n",
            " 17  MMRAcquisitionRetailAveragePrice               72983 non-null  float64\n",
            " 18  Auction_ADESA                                  72983 non-null  float64\n",
            " 19  Auction_MANHEIM                                72983 non-null  float64\n",
            " 20  Auction_OTHER                                  72983 non-null  float64\n",
            " 21  Make_ACURA                                     72983 non-null  float64\n",
            " 22  Make_BUICK                                     72983 non-null  float64\n",
            " 23  Make_CADILLAC                                  72983 non-null  float64\n",
            " 24  Make_CHEVROLET                                 72983 non-null  float64\n",
            " 25  Make_CHRYSLER                                  72983 non-null  float64\n",
            " 26  Make_DODGE                                     72983 non-null  float64\n",
            " 27  Make_FORD                                      72983 non-null  float64\n",
            " 28  Make_GMC                                       72983 non-null  float64\n",
            " 29  Make_HONDA                                     72983 non-null  float64\n",
            " 30  Make_HUMMER                                    72983 non-null  float64\n",
            " 31  Make_HYUNDAI                                   72983 non-null  float64\n",
            " 32  Make_INFINITI                                  72983 non-null  float64\n",
            " 33  Make_ISUZU                                     72983 non-null  float64\n",
            " 34  Make_JEEP                                      72983 non-null  float64\n",
            " 35  Make_KIA                                       72983 non-null  float64\n",
            " 36  Make_LEXUS                                     72983 non-null  float64\n",
            " 37  Make_LINCOLN                                   72983 non-null  float64\n",
            " 38  Make_MAZDA                                     72983 non-null  float64\n",
            " 39  Make_MERCURY                                   72983 non-null  float64\n",
            " 40  Make_MINI                                      72983 non-null  float64\n",
            " 41  Make_MITSUBISHI                                72983 non-null  float64\n",
            " 42  Make_NISSAN                                    72983 non-null  float64\n",
            " 43  Make_OLDSMOBILE                                72983 non-null  float64\n",
            " 44  Make_PLYMOUTH                                  72983 non-null  float64\n",
            " 45  Make_PONTIAC                                   72983 non-null  float64\n",
            " 46  Make_SATURN                                    72983 non-null  float64\n",
            " 47  Make_SCION                                     72983 non-null  float64\n",
            " 48  Make_SUBARU                                    72983 non-null  float64\n",
            " 49  Make_SUZUKI                                    72983 non-null  float64\n",
            " 50  Make_TOYOTA                                    72983 non-null  float64\n",
            " 51  Make_TOYOTA SCION                              72983 non-null  float64\n",
            " 52  Make_VOLKSWAGEN                                72983 non-null  float64\n",
            " 53  Make_VOLVO                                     72983 non-null  float64\n",
            " 54  Color_BEIGE                                    72983 non-null  float64\n",
            " 55  Color_BLACK                                    72983 non-null  float64\n",
            " 56  Color_BLUE                                     72983 non-null  float64\n",
            " 57  Color_BROWN                                    72983 non-null  float64\n",
            " 58  Color_Color_unk                                72983 non-null  float64\n",
            " 59  Color_GOLD                                     72983 non-null  float64\n",
            " 60  Color_GREEN                                    72983 non-null  float64\n",
            " 61  Color_GREY                                     72983 non-null  float64\n",
            " 62  Color_MAROON                                   72983 non-null  float64\n",
            " 63  Color_NOT AVAIL                                72983 non-null  float64\n",
            " 64  Color_ORANGE                                   72983 non-null  float64\n",
            " 65  Color_OTHER                                    72983 non-null  float64\n",
            " 66  Color_PURPLE                                   72983 non-null  float64\n",
            " 67  Color_RED                                      72983 non-null  float64\n",
            " 68  Color_SILVER                                   72983 non-null  float64\n",
            " 69  Color_WHITE                                    72983 non-null  float64\n",
            " 70  Color_YELLOW                                   72983 non-null  float64\n",
            " 71  Transmission_AUTO                              72983 non-null  float64\n",
            " 72  Transmission_MANUAL                            72983 non-null  float64\n",
            " 73  Transmission_Manual                            72983 non-null  float64\n",
            " 74  Transmission_Trans_unk                         72983 non-null  float64\n",
            " 75  Nationality_AMERICAN                           72983 non-null  float64\n",
            " 76  Nationality_Nationality_unk                    72983 non-null  float64\n",
            " 77  Nationality_OTHER                              72983 non-null  float64\n",
            " 78  Nationality_OTHER ASIAN                        72983 non-null  float64\n",
            " 79  Nationality_TOP LINE ASIAN                     72983 non-null  float64\n",
            " 80  Size_COMPACT                                   72983 non-null  float64\n",
            " 81  Size_CROSSOVER                                 72983 non-null  float64\n",
            " 82  Size_LARGE                                     72983 non-null  float64\n",
            " 83  Size_LARGE SUV                                 72983 non-null  float64\n",
            " 84  Size_LARGE TRUCK                               72983 non-null  float64\n",
            " 85  Size_MEDIUM                                    72983 non-null  float64\n",
            " 86  Size_MEDIUM SUV                                72983 non-null  float64\n",
            " 87  Size_SMALL SUV                                 72983 non-null  float64\n",
            " 88  Size_SMALL TRUCK                               72983 non-null  float64\n",
            " 89  Size_SPECIALTY                                 72983 non-null  float64\n",
            " 90  Size_SPORTS                                    72983 non-null  float64\n",
            " 91  Size_Trans_unk                                 72983 non-null  float64\n",
            " 92  Size_VAN                                       72983 non-null  float64\n",
            " 93  TopThreeAmericanName_CHRYSLER                  72983 non-null  float64\n",
            " 94  TopThreeAmericanName_FORD                      72983 non-null  float64\n",
            " 95  TopThreeAmericanName_GM                        72983 non-null  float64\n",
            " 96  TopThreeAmericanName_OTHER                     72983 non-null  float64\n",
            " 97  TopThreeAmericanName_TopThreeAmericanName_unk  72983 non-null  float64\n",
            "dtypes: float64(98)\n",
            "memory usage: 54.6 MB\n"
          ]
        }
      ]
    },
    {
      "cell_type": "code",
      "metadata": {
        "id": "FtWsZUWsz0q9",
        "outputId": "74f4846f-dc50-404d-f85a-810444e732c1"
      },
      "source": [
        "X_test.info()"
      ],
      "execution_count": null,
      "outputs": [
        {
          "name": "stdout",
          "output_type": "stream",
          "text": [
            "<class 'pandas.core.frame.DataFrame'>\n",
            "RangeIndex: 48707 entries, 0 to 48706\n",
            "Data columns (total 98 columns):\n",
            " #   Column                                         Non-Null Count  Dtype  \n",
            "---  ------                                         --------------  -----  \n",
            " 0   VehicleAge                                     48707 non-null  float64\n",
            " 1   WarrantyCost                                   48707 non-null  float64\n",
            " 2   Year                                           48707 non-null  float64\n",
            " 3   Month                                          48707 non-null  float64\n",
            " 4   Day                                            48707 non-null  float64\n",
            " 5   WeekOfYear                                     48707 non-null  float64\n",
            " 6   VehBCost                                       48707 non-null  float64\n",
            " 7   IsOnlineSale                                   48707 non-null  float64\n",
            " 8   WheelTypeID                                    48707 non-null  float64\n",
            " 9   VehOdo                                         48707 non-null  float64\n",
            " 10  MMRAcquisitionAuctionAveragePrice              48707 non-null  float64\n",
            " 11  MMRAcquisitonRetailCleanPrice                  48707 non-null  float64\n",
            " 12  MMRCurrentAuctionAveragePrice                  48707 non-null  float64\n",
            " 13  MMRCurrentAuctionCleanPrice                    48707 non-null  float64\n",
            " 14  MMRCurrentRetailAveragePrice                   48707 non-null  float64\n",
            " 15  MMRCurrentRetailCleanPrice                     48707 non-null  float64\n",
            " 16  MMRAcquisitionAuctionCleanPrice                48707 non-null  float64\n",
            " 17  MMRAcquisitionRetailAveragePrice               48707 non-null  float64\n",
            " 18  Auction_ADESA                                  48707 non-null  float64\n",
            " 19  Auction_MANHEIM                                48707 non-null  float64\n",
            " 20  Auction_OTHER                                  48707 non-null  float64\n",
            " 21  Make_ACURA                                     48707 non-null  float64\n",
            " 22  Make_BUICK                                     48707 non-null  float64\n",
            " 23  Make_CADILLAC                                  48707 non-null  float64\n",
            " 24  Make_CHEVROLET                                 48707 non-null  float64\n",
            " 25  Make_CHRYSLER                                  48707 non-null  float64\n",
            " 26  Make_DODGE                                     48707 non-null  float64\n",
            " 27  Make_FORD                                      48707 non-null  float64\n",
            " 28  Make_GMC                                       48707 non-null  float64\n",
            " 29  Make_HONDA                                     48707 non-null  float64\n",
            " 30  Make_HUMMER                                    48707 non-null  float64\n",
            " 31  Make_HYUNDAI                                   48707 non-null  float64\n",
            " 32  Make_INFINITI                                  48707 non-null  float64\n",
            " 33  Make_ISUZU                                     48707 non-null  float64\n",
            " 34  Make_JEEP                                      48707 non-null  float64\n",
            " 35  Make_KIA                                       48707 non-null  float64\n",
            " 36  Make_LEXUS                                     48707 non-null  float64\n",
            " 37  Make_LINCOLN                                   48707 non-null  float64\n",
            " 38  Make_MAZDA                                     48707 non-null  float64\n",
            " 39  Make_MERCURY                                   48707 non-null  float64\n",
            " 40  Make_MINI                                      48707 non-null  float64\n",
            " 41  Make_MITSUBISHI                                48707 non-null  float64\n",
            " 42  Make_NISSAN                                    48707 non-null  float64\n",
            " 43  Make_OLDSMOBILE                                48707 non-null  float64\n",
            " 44  Make_PLYMOUTH                                  48707 non-null  float64\n",
            " 45  Make_PONTIAC                                   48707 non-null  float64\n",
            " 46  Make_SATURN                                    48707 non-null  float64\n",
            " 47  Make_SCION                                     48707 non-null  float64\n",
            " 48  Make_SUBARU                                    48707 non-null  float64\n",
            " 49  Make_SUZUKI                                    48707 non-null  float64\n",
            " 50  Make_TOYOTA                                    48707 non-null  float64\n",
            " 51  Make_TOYOTA SCION                              48707 non-null  float64\n",
            " 52  Make_VOLKSWAGEN                                48707 non-null  float64\n",
            " 53  Make_VOLVO                                     48707 non-null  float64\n",
            " 54  Color_BEIGE                                    48707 non-null  float64\n",
            " 55  Color_BLACK                                    48707 non-null  float64\n",
            " 56  Color_BLUE                                     48707 non-null  float64\n",
            " 57  Color_BROWN                                    48707 non-null  float64\n",
            " 58  Color_Color_unk                                48707 non-null  float64\n",
            " 59  Color_GOLD                                     48707 non-null  float64\n",
            " 60  Color_GREEN                                    48707 non-null  float64\n",
            " 61  Color_GREY                                     48707 non-null  float64\n",
            " 62  Color_MAROON                                   48707 non-null  float64\n",
            " 63  Color_NOT AVAIL                                48707 non-null  float64\n",
            " 64  Color_ORANGE                                   48707 non-null  float64\n",
            " 65  Color_OTHER                                    48707 non-null  float64\n",
            " 66  Color_PURPLE                                   48707 non-null  float64\n",
            " 67  Color_RED                                      48707 non-null  float64\n",
            " 68  Color_SILVER                                   48707 non-null  float64\n",
            " 69  Color_WHITE                                    48707 non-null  float64\n",
            " 70  Color_YELLOW                                   48707 non-null  float64\n",
            " 71  Transmission_AUTO                              48707 non-null  float64\n",
            " 72  Transmission_MANUAL                            48707 non-null  float64\n",
            " 73  Transmission_Manual                            48707 non-null  float64\n",
            " 74  Transmission_Trans_unk                         48707 non-null  float64\n",
            " 75  Nationality_AMERICAN                           48707 non-null  float64\n",
            " 76  Nationality_Nationality_unk                    48707 non-null  float64\n",
            " 77  Nationality_OTHER                              48707 non-null  float64\n",
            " 78  Nationality_OTHER ASIAN                        48707 non-null  float64\n",
            " 79  Nationality_TOP LINE ASIAN                     48707 non-null  float64\n",
            " 80  Size_COMPACT                                   48707 non-null  float64\n",
            " 81  Size_CROSSOVER                                 48707 non-null  float64\n",
            " 82  Size_LARGE                                     48707 non-null  float64\n",
            " 83  Size_LARGE SUV                                 48707 non-null  float64\n",
            " 84  Size_LARGE TRUCK                               48707 non-null  float64\n",
            " 85  Size_MEDIUM                                    48707 non-null  float64\n",
            " 86  Size_MEDIUM SUV                                48707 non-null  float64\n",
            " 87  Size_SMALL SUV                                 48707 non-null  float64\n",
            " 88  Size_SMALL TRUCK                               48707 non-null  float64\n",
            " 89  Size_SPECIALTY                                 48707 non-null  float64\n",
            " 90  Size_SPORTS                                    48707 non-null  float64\n",
            " 91  Size_Trans_unk                                 48707 non-null  float64\n",
            " 92  Size_VAN                                       48707 non-null  float64\n",
            " 93  TopThreeAmericanName_CHRYSLER                  48707 non-null  float64\n",
            " 94  TopThreeAmericanName_FORD                      48707 non-null  float64\n",
            " 95  TopThreeAmericanName_GM                        48707 non-null  float64\n",
            " 96  TopThreeAmericanName_OTHER                     48707 non-null  float64\n",
            " 97  TopThreeAmericanName_TopThreeAmericanName_unk  48707 non-null  float64\n",
            "dtypes: float64(98)\n",
            "memory usage: 36.4 MB\n"
          ]
        }
      ]
    },
    {
      "cell_type": "code",
      "metadata": {
        "id": "ScQoWezMz0q9"
      },
      "source": [
        "from sklearn.model_selection import train_test_split"
      ],
      "execution_count": null,
      "outputs": []
    },
    {
      "cell_type": "code",
      "metadata": {
        "id": "Y0zM2uF5z0q9"
      },
      "source": [
        "train_x, val_x, train_y, val_y = train_test_split(X, targets, test_size = .2, random_state =42 )"
      ],
      "execution_count": null,
      "outputs": []
    },
    {
      "cell_type": "code",
      "metadata": {
        "id": "8uxTurgPz0q9"
      },
      "source": [
        "from sklearn.ensemble import BaggingClassifier\n",
        "from sklearn import tree\n"
      ],
      "execution_count": null,
      "outputs": []
    },
    {
      "cell_type": "code",
      "metadata": {
        "id": "Yno3M3XOz0q-",
        "outputId": "54681e0f-5569-432f-b881-45c3226485aa"
      },
      "source": [
        "model = BaggingClassifier(tree.DecisionTreeClassifier(random_state=42))\n",
        "model.fit(train_x, train_y)"
      ],
      "execution_count": null,
      "outputs": [
        {
          "data": {
            "text/plain": [
              "BaggingClassifier(base_estimator=DecisionTreeClassifier(random_state=42))"
            ]
          },
          "execution_count": 66,
          "metadata": {},
          "output_type": "execute_result"
        }
      ]
    },
    {
      "cell_type": "code",
      "metadata": {
        "id": "So0WH8B0z0q-"
      },
      "source": [
        "pred_prob = model.predict_proba(val_x)\n",
        "pred = model.predict(val_x)\n"
      ],
      "execution_count": null,
      "outputs": []
    },
    {
      "cell_type": "code",
      "metadata": {
        "id": "FANGMNSsz0q-",
        "outputId": "220e5b7f-7709-4e7e-d656-ae56684051d8"
      },
      "source": [
        "from sklearn.metrics import accuracy_score\n",
        "accuracy_score(val_y,pred)"
      ],
      "execution_count": null,
      "outputs": [
        {
          "data": {
            "text/plain": [
              "0.8979242310063712"
            ]
          },
          "execution_count": 68,
          "metadata": {},
          "output_type": "execute_result"
        }
      ]
    },
    {
      "cell_type": "code",
      "metadata": {
        "id": "kluug0fnz0q-"
      },
      "source": [
        "from sklearn.metrics import confusion_matrix\n",
        "\n",
        "def predict_and_plot(inputs, targets, name=''):\n",
        "    preds = model.predict(inputs)\n",
        "    \n",
        "    accuracy = accuracy_score(targets, preds)\n",
        "    print(\"Accuracy: {:.2f}%\".format(accuracy * 100))\n",
        "    \n",
        "    cf = confusion_matrix(targets, preds, normalize='true')\n",
        "    plt.figure()\n",
        "    sns.heatmap(cf, annot=True)\n",
        "    plt.xlabel('Prediction')\n",
        "    plt.ylabel('Target')\n",
        "    plt.title('{} Confusion Matrix'.format(name));\n",
        "    \n",
        "    return preds"
      ],
      "execution_count": null,
      "outputs": []
    },
    {
      "cell_type": "code",
      "metadata": {
        "id": "zHYkkz1Lz0q-",
        "outputId": "a0113e6d-59d5-4c4d-c3c6-c7b2d6fffd46"
      },
      "source": [
        "train_preds = predict_and_plot(train_x,train_y, 'Training')"
      ],
      "execution_count": null,
      "outputs": [
        {
          "name": "stdout",
          "output_type": "stream",
          "text": [
            "Accuracy: 98.43%\n"
          ]
        },
        {
          "data": {
            "image/png": "[encoded data removed]",
            "text/plain": [
              "<Figure size 432x288 with 2 Axes>"
            ]
          },
          "metadata": {
            "needs_background": "light"
          },
          "output_type": "display_data"
        }
      ]
    },
    {
      "cell_type": "code",
      "metadata": {
        "id": "4aan7K6Rz0q_",
        "outputId": "6ed1af4e-611f-4443-d01e-4b6ec7152b13"
      },
      "source": [
        "val_preds = predict_and_plot(val_x, val_y, 'Validatiaon')"
      ],
      "execution_count": null,
      "outputs": [
        {
          "name": "stdout",
          "output_type": "stream",
          "text": [
            "Accuracy: 89.79%\n"
          ]
        },
        {
          "data": {
            "image/png": "[encoded data removed]",
            "text/plain": [
              "<Figure size 432x288 with 2 Axes>"
            ]
          },
          "metadata": {
            "needs_background": "light"
          },
          "output_type": "display_data"
        }
      ]
    },
    {
      "cell_type": "code",
      "metadata": {
        "id": "9qOfFWOHz0rA",
        "outputId": "6d00a043-2127-432a-9090-b8ef19c1b1ae"
      },
      "source": [
        "jovian.commit()"
      ],
      "execution_count": null,
      "outputs": [
        {
          "data": {
            "application/javascript": [
              "window.require && require([\"base/js/namespace\"],function(Jupyter){Jupyter.notebook.save_checkpoint()})"
            ],
            "text/plain": [
              "<IPython.core.display.Javascript object>"
            ]
          },
          "metadata": {},
          "output_type": "display_data"
        },
        {
          "name": "stdout",
          "output_type": "stream",
          "text": [
            "[jovian] Updating notebook \"nimesh-singh-mech/auction-car-ml-project\" on https://jovian.ai\u001b[0m\n",
            "[jovian] Committed successfully! https://jovian.ai/nimesh-singh-mech/auction-car-ml-project\u001b[0m\n"
          ]
        },
        {
          "data": {
            "text/plain": [
              "'https://jovian.ai/nimesh-singh-mech/auction-car-ml-project'"
            ]
          },
          "execution_count": 72,
          "metadata": {},
          "output_type": "execute_result"
        }
      ]
    },
    {
      "cell_type": "markdown",
      "metadata": {
        "id": "6KZ3RyO0z0rA"
      },
      "source": [
        "## New Model and Hyperparameter Tuning"
      ]
    },
    {
      "cell_type": "code",
      "metadata": {
        "id": "pi-O2dyfz0rA"
      },
      "source": [
        "from xgboost import XGBClassifier"
      ],
      "execution_count": null,
      "outputs": []
    },
    {
      "cell_type": "code",
      "metadata": {
        "id": "YXT3g4aSz0rB"
      },
      "source": [
        "model_2 = XGBClassifier(random_state=42, n_jobs=-1, n_estimators=20, max_depth=4)"
      ],
      "execution_count": null,
      "outputs": []
    },
    {
      "cell_type": "code",
      "metadata": {
        "id": "8o31tnqwz0rB",
        "outputId": "55e8c038-8822-457e-88f1-cbd99dc4841b"
      },
      "source": [
        "model_2.fit(train_x,train_y)"
      ],
      "execution_count": null,
      "outputs": [
        {
          "name": "stderr",
          "output_type": "stream",
          "text": [
            "/opt/conda/lib/python3.9/site-packages/xgboost/sklearn.py:1146: UserWarning: The use of label encoder in XGBClassifier is deprecated and will be removed in a future release. To remove this warning, do the following: 1) Pass option use_label_encoder=False when constructing XGBClassifier object; and 2) Encode your labels (y) as integers starting with 0, i.e. 0, 1, 2, ..., [num_class - 1].\n",
            "  warnings.warn(label_encoder_deprecation_msg, UserWarning)\n"
          ]
        },
        {
          "name": "stdout",
          "output_type": "stream",
          "text": [
            "[05:32:37] WARNING: ../src/learner.cc:1095: Starting in XGBoost 1.3.0, the default evaluation metric used with the objective 'binary:logistic' was changed from 'error' to 'logloss'. Explicitly set eval_metric if you'd like to restore the old behavior.\n"
          ]
        },
        {
          "data": {
            "text/plain": [
              "XGBClassifier(base_score=0.5, booster='gbtree', colsample_bylevel=1,\n",
              "              colsample_bynode=1, colsample_bytree=1, gamma=0, gpu_id=-1,\n",
              "              importance_type='gain', interaction_constraints='',\n",
              "              learning_rate=0.300000012, max_delta_step=0, max_depth=4,\n",
              "              min_child_weight=1, missing=nan, monotone_constraints='()',\n",
              "              n_estimators=20, n_jobs=-1, num_parallel_tree=1, random_state=42,\n",
              "              reg_alpha=0, reg_lambda=1, scale_pos_weight=1, subsample=1,\n",
              "              tree_method='exact', validate_parameters=1, verbosity=None)"
            ]
          },
          "execution_count": 75,
          "metadata": {},
          "output_type": "execute_result"
        }
      ]
    },
    {
      "cell_type": "code",
      "metadata": {
        "id": "gPaC77N_z0rB"
      },
      "source": [
        "importance_df = pd.DataFrame({\n",
        "    'feature': X.columns,\n",
        "    'importance': model_2.feature_importances_\n",
        "}).sort_values('importance', ascending=False)"
      ],
      "execution_count": null,
      "outputs": []
    },
    {
      "cell_type": "code",
      "metadata": {
        "scrolled": true,
        "id": "n6o8jY5mz0rB",
        "outputId": "9f803f63-94b3-4d01-a437-9c35471a9347"
      },
      "source": [
        "import seaborn as sns\n",
        "plt.figure(figsize=(10,6))\n",
        "plt.title('Feature Importance')\n",
        "sns.barplot(data=importance_df.head(10), x='importance', y='feature');"
      ],
      "execution_count": null,
      "outputs": [
        {
          "data": {
            "image/png": "[encoded data removed]",
            "text/plain": [
              "<Figure size 720x432 with 1 Axes>"
            ]
          },
          "metadata": {
            "needs_background": "light"
          },
          "output_type": "display_data"
        }
      ]
    },
    {
      "cell_type": "code",
      "metadata": {
        "id": "bX9prYGtz0rB"
      },
      "source": [
        "def predict_and_plot_2(inputs, targets, name=''):\n",
        "    preds = model_2.predict(inputs)\n",
        "    \n",
        "    accuracy = accuracy_score(targets, preds)\n",
        "    print(\"Accuracy: {:.2f}%\".format(accuracy * 100))\n",
        "    \n",
        "    cf = confusion_matrix(targets, preds, normalize='true')\n",
        "    plt.figure()\n",
        "    sns.heatmap(cf, annot=True)\n",
        "    plt.xlabel('Prediction')\n",
        "    plt.ylabel('Target')\n",
        "    plt.title('{} Confusion Matrix'.format(name));\n",
        "    \n",
        "    return preds\n",
        "\n",
        "\n",
        "def test_params(**params):\n",
        "    model_2 = XGBClassifier(**params)\n",
        "    model_2.fit(train_x, train_y)\n",
        "    train_preds = predict_and_plot_2(train_x,train_y, 'Training')\n",
        "    val_preds = predict_and_plot_2(val_x, val_y, 'Validatiaon')\n",
        "    print('Train Accuracy: {}, Validation Accuracy: {}'.format(train_preds, val_preds))"
      ],
      "execution_count": null,
      "outputs": []
    },
    {
      "cell_type": "code",
      "metadata": {
        "id": "alvAv1B1z0rB",
        "outputId": "f9b510e2-78d3-4571-de10-8f568984b3b8"
      },
      "source": [
        "test_params(n_estimators = 100, use_label_encoder=False,booster='gblinear', objective ='binary:logistic')"
      ],
      "execution_count": null,
      "outputs": [
        {
          "name": "stdout",
          "output_type": "stream",
          "text": [
            "[05:48:55] WARNING: ../src/learner.cc:1095: Starting in XGBoost 1.3.0, the default evaluation metric used with the objective 'binary:logistic' was changed from 'error' to 'logloss'. Explicitly set eval_metric if you'd like to restore the old behavior.\n",
            "Accuracy: 89.97%\n",
            "Accuracy: 90.20%\n",
            "Train Accuracy: [0 0 0 ... 0 0 0], Validation Accuracy: [0 0 0 ... 0 0 0]\n"
          ]
        },
        {
          "data": {
            "image/png": "[encoded data removed]",
            "text/plain": [
              "<Figure size 432x288 with 2 Axes>"
            ]
          },
          "metadata": {},
          "output_type": "display_data"
        },
        {
          "data": {
            "image/png": "[encoded data removed]",
            "text/plain": [
              "<Figure size 432x288 with 2 Axes>"
            ]
          },
          "metadata": {},
          "output_type": "display_data"
        }
      ]
    },
    {
      "cell_type": "code",
      "metadata": {
        "id": "OMX92pPFz0rC"
      },
      "source": [
        "preds = model_2.predict(X_test)\n",
        "preds_prob = model_2.predict_proba(X_test)"
      ],
      "execution_count": null,
      "outputs": []
    },
    {
      "cell_type": "code",
      "metadata": {
        "id": "DHbEuxUdz0rC"
      },
      "source": [
        ""
      ],
      "execution_count": null,
      "outputs": []
    },
    {
      "cell_type": "code",
      "metadata": {
        "id": "89PinGZEz0rC",
        "outputId": "8384f13b-aa55-4654-80b2-75bb95c83d01"
      },
      "source": [
        "%%time\n",
        "from sklearn.tree import DecisionTreeClassifier\n",
        "from sklearn.metrics import accuracy_score, confusion_matrix\n",
        "model_3=DecisionTreeClassifier(max_depth=12,random_state=42)\n",
        "model_3.fit(train_x,train_y)\n",
        "print(\"Train_acc:\",model_3.score(train_x,train_y),\" | Val_acc:\",model_3.score(val_x,val_y))"
      ],
      "execution_count": null,
      "outputs": [
        {
          "name": "stdout",
          "output_type": "stream",
          "text": [
            "Train_acc: 0.9842941801116706  | Val_acc: 0.8979242310063712\n",
            "CPU times: user 1.73 s, sys: 96.1 ms, total: 1.83 s\n",
            "Wall time: 1.83 s\n"
          ]
        }
      ]
    },
    {
      "cell_type": "code",
      "metadata": {
        "id": "7H8OR1j7z0rC",
        "outputId": "23505832-7306-416f-98db-b27446e91721"
      },
      "source": [
        "def max_depth(min,max):\n",
        "    depth=[]\n",
        "    tr_ac=[]\n",
        "    va_ac=[]\n",
        "    for i in range(min,max,2):\n",
        "        model_3 =DecisionTreeClassifier(max_depth=i, random_state=42)\n",
        "        model_3.fit(train_x,train_y)\n",
        "        depth.append(i)\n",
        "        tr_ac.append(model_3.score(train_x,train_y))\n",
        "        va_ac.append(model_3.score(val_x,val_y))\n",
        "        \n",
        "    #tr_ac=1-np.array(tr_ac);\n",
        "    #va_ac=1-np.array(va_ac);\n",
        "    \n",
        "    tr_ac=np.array(tr_ac);\n",
        "    va_ac=np.array(va_ac);\n",
        "    \n",
        "    plt.figure(figsize=(10,8))\n",
        "    sns.set_style('darkgrid')\n",
        "    plt.title('Error in train and Validation Accuracy Vs Depth')\n",
        "    plt.xlabel('Depth')\n",
        "    plt.ylabel('Error in Accuracy')\n",
        "    plt.plot(depth,tr_ac,'cs-',linewidth=3,markersize=9)\n",
        "    plt.plot(depth,va_ac,'D--',color='orange',linewidth=3, markersize=7)\n",
        "    plt.legend(['Loss_Train','Loss_Val']);\n",
        "    plt.show()\n",
        "    \n",
        "max_depth(2,18)"
      ],
      "execution_count": null,
      "outputs": [
        {
          "data": {
            "image/png": "[encoded data removed]",
            "text/plain": [
              "<Figure size 720x576 with 1 Axes>"
            ]
          },
          "metadata": {},
          "output_type": "display_data"
        }
      ]
    },
    {
      "cell_type": "code",
      "metadata": {
        "id": "7LhZyYrIz0rC",
        "outputId": "516dc0bb-4575-459f-a19e-d295fcbced4a"
      },
      "source": [
        "model_3=DecisionTreeClassifier(max_depth=6, random_state=42)\n",
        "model_3.fit(train_x,train_y)\n",
        "print(\"Train_acc:\",model_3.score(train_x,train_y),\" | Val_acc:\",model_3.score(val_x,val_y))"
      ],
      "execution_count": null,
      "outputs": [
        {
          "name": "stdout",
          "output_type": "stream",
          "text": [
            "Train_acc: 0.9005583530298359  | Val_acc: 0.9020346646571213\n"
          ]
        }
      ]
    },
    {
      "cell_type": "code",
      "metadata": {
        "id": "beljyaKOz0rD",
        "outputId": "2ab84e6c-2875-44d8-e672-8fa060397514"
      },
      "source": [
        "jovian.commit()"
      ],
      "execution_count": null,
      "outputs": [
        {
          "data": {
            "application/javascript": [
              "window.require && require([\"base/js/namespace\"],function(Jupyter){Jupyter.notebook.save_checkpoint()})"
            ],
            "text/plain": [
              "<IPython.core.display.Javascript object>"
            ]
          },
          "metadata": {},
          "output_type": "display_data"
        },
        {
          "name": "stdout",
          "output_type": "stream",
          "text": [
            "[jovian] Updating notebook \"nimesh-singh-mech/auction-car-ml-project\" on https://jovian.ai\u001b[0m\n",
            "[jovian] Committed successfully! https://jovian.ai/nimesh-singh-mech/auction-car-ml-project\u001b[0m\n"
          ]
        },
        {
          "data": {
            "text/plain": [
              "'https://jovian.ai/nimesh-singh-mech/auction-car-ml-project'"
            ]
          },
          "execution_count": 96,
          "metadata": {},
          "output_type": "execute_result"
        }
      ]
    },
    {
      "cell_type": "code",
      "metadata": {
        "id": "9zFsIxHtz0rD"
      },
      "source": [
        "preds=model_3.predict_proba(X_test)\n",
        "example_entry['IsBadBuy']=preds[:,1]\n",
        "example_entry.to_csv('Submissions.csv',index=False)"
      ],
      "execution_count": null,
      "outputs": []
    },
    {
      "cell_type": "code",
      "metadata": {
        "id": "61CNaRtxz0rD",
        "outputId": "4f018f45-3080-4d5e-cd71-818bb94e6e50"
      },
      "source": [
        "from IPython.display import FileLink\n",
        "FileLink('Submissions.csv')"
      ],
      "execution_count": null,
      "outputs": [
        {
          "data": {
            "text/html": [
              "<a href='Submissions.csv' target='_blank'>Submissions.csv</a><br>"
            ],
            "text/plain": [
              "/home/jovyan/Submissions.csv"
            ]
          },
          "execution_count": 106,
          "metadata": {},
          "output_type": "execute_result"
        }
      ]
    },
    {
      "cell_type": "markdown",
      "metadata": {
        "id": "0aB9wg1Kz0rD"
      },
      "source": [
        "## Saving the Model"
      ]
    },
    {
      "cell_type": "code",
      "metadata": {
        "id": "64H21CyXz0rD"
      },
      "source": [
        "import joblib"
      ],
      "execution_count": null,
      "outputs": []
    },
    {
      "cell_type": "code",
      "metadata": {
        "id": "vXL3rLm8z0rE"
      },
      "source": [
        "model_3 = {\n",
        "    'model': model_3,\n",
        "    'imputer': imputer,\n",
        "    'scaler': scaler,\n",
        "    'encoder': encoder,\n",
        "    'input_cols': input_cols,\n",
        "    'target_col': target_col,\n",
        "    'numeric_cols': numeric_cols,\n",
        "    'categorical_cols': categorical_cols,\n",
        "    'encoded_cols': encoded_cols\n",
        "}"
      ],
      "execution_count": null,
      "outputs": []
    },
    {
      "cell_type": "code",
      "metadata": {
        "id": "b14lAvMJz0rE",
        "outputId": "54afe0db-6ac0-405d-e574-4a33a253ca5f"
      },
      "source": [
        "joblib.dump(model_3, 'auction_prediction')"
      ],
      "execution_count": null,
      "outputs": [
        {
          "data": {
            "text/plain": [
              "['auction_prediction']"
            ]
          },
          "execution_count": 108,
          "metadata": {},
          "output_type": "execute_result"
        }
      ]
    },
    {
      "cell_type": "markdown",
      "metadata": {
        "id": "6ZJ7wnG1z0rE"
      },
      "source": [
        "## Biblography\n",
        "\n",
        "\n",
        "I took inspiration from the following works:\n",
        "\n",
        "1. https://www.kaggle.com/funxexcel/don-t-get-kicked-pipeline-improved\n",
        "2. https://www.kaggle.com/balajinagappan/don-t-get-kicked-sklearn-from-scratch\n",
        "3. https://www.kaggle.com/gauravduttakiit/hyperparameter-tuning-in-decision-trees\n"
      ]
    },
    {
      "cell_type": "code",
      "metadata": {
        "id": "7wJfZzKzz0rE",
        "outputId": "6a48f636-6aad-4972-b350-ee9140d92888"
      },
      "source": [
        "jovian.commit()"
      ],
      "execution_count": null,
      "outputs": [
        {
          "data": {
            "application/javascript": [
              "window.require && require([\"base/js/namespace\"],function(Jupyter){Jupyter.notebook.save_checkpoint()})"
            ],
            "text/plain": [
              "<IPython.core.display.Javascript object>"
            ]
          },
          "metadata": {},
          "output_type": "display_data"
        }
      ]
    }
  ]
}